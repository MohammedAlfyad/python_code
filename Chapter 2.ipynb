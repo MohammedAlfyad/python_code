{
 "cells": [
  {
   "cell_type": "code",
   "execution_count": 4,
   "id": "0c33d3e7",
   "metadata": {},
   "outputs": [],
   "source": [
    "import networkx as nx\n",
    "%matplotlib inline"
   ]
  },
  {
   "cell_type": "code",
   "execution_count": 5,
   "id": "ef2ed1e9",
   "metadata": {},
   "outputs": [
    {
     "data": {
      "image/png": "[encoded data removed]",
      "text/plain": [
       "<Figure size 432x288 with 1 Axes>"
      ]
     },
     "metadata": {},
     "output_type": "display_data"
    }
   ],
   "source": [
    "G = nx.Graph()\n",
    "\n",
    "G.add_nodes_from(['A','B','C','D','E'])\n",
    "\n",
    "G.add_edges_from([('A','B'),('B','C'),('A','C'),('A','D')])\n",
    "\n",
    "nx.draw(G,\n",
    "        with_labels=True,\n",
    "        node_color='blue',\n",
    "        node_size=500,\n",
    "        font_color='white',\n",
    "        font_size=16,\n",
    "        )\n"
   ]
  },
  {
   "cell_type": "code",
   "execution_count": 6,
   "id": "567e354c",
   "metadata": {},
   "outputs": [
    {
     "data": {
      "text/plain": [
       "True"
      ]
     },
     "execution_count": 6,
     "metadata": {},
     "output_type": "execute_result"
    }
   ],
   "source": [
    "nx.has_path(G, 'D', 'C')"
   ]
  },
  {
   "cell_type": "code",
   "execution_count": 7,
   "id": "c8dec2f9",
   "metadata": {},
   "outputs": [
    {
     "data": {
      "text/plain": [
       "False"
      ]
     },
     "execution_count": 7,
     "metadata": {},
     "output_type": "execute_result"
    }
   ],
   "source": [
    "nx.has_path(G, 'A', 'E')"
   ]
  },
  {
   "cell_type": "code",
   "execution_count": 8,
   "id": "1fe891bd",
   "metadata": {},
   "outputs": [
    {
     "data": {
      "text/plain": [
       "[['D', 'A', 'B', 'C'], ['D', 'A', 'C']]"
      ]
     },
     "execution_count": 8,
     "metadata": {},
     "output_type": "execute_result"
    }
   ],
   "source": [
    "list(nx.all_simple_paths(G, 'D', 'C'))"
   ]
  },
  {
   "cell_type": "code",
   "execution_count": 9,
   "id": "380253da",
   "metadata": {},
   "outputs": [
    {
     "data": {
      "image/png": "[encoded data removed]",
      "text/plain": [
       "<Figure size 432x288 with 1 Axes>"
      ]
     },
     "metadata": {},
     "output_type": "display_data"
    }
   ],
   "source": [
    "G = nx.Graph()\n",
    "G.add_nodes_from(['A','B','C','D'])\n",
    "G.add_edges_from([('A','B'),('B','C'),('A','C'),('A','D')])\n",
    "nx.draw(G,\n",
    "        with_labels=True,\n",
    "        node_color='blue',\n",
    "        node_size=1600,\n",
    "        font_color='white',\n",
    "        font_size=16,\n",
    "        )"
   ]
  },
  {
   "cell_type": "code",
   "execution_count": 10,
   "id": "fd5edeab",
   "metadata": {},
   "outputs": [
    {
     "data": {
      "text/plain": [
       "[['D', 'A', 'B', 'C'], ['D', 'A', 'C']]"
      ]
     },
     "execution_count": 10,
     "metadata": {},
     "output_type": "execute_result"
    }
   ],
   "source": [
    "list(nx.all_simple_paths(G,'D','C'))"
   ]
  },
  {
   "cell_type": "code",
   "execution_count": 11,
   "id": "ae393c35",
   "metadata": {},
   "outputs": [
    {
     "data": {
      "text/plain": [
       "['D', 'A', 'C']"
      ]
     },
     "execution_count": 11,
     "metadata": {},
     "output_type": "execute_result"
    }
   ],
   "source": [
    "nx.shortest_path(G,'D','C')"
   ]
  },
  {
   "cell_type": "code",
   "execution_count": 12,
   "id": "a8292af0",
   "metadata": {},
   "outputs": [
    {
     "data": {
      "text/plain": [
       "2"
      ]
     },
     "execution_count": 12,
     "metadata": {},
     "output_type": "execute_result"
    }
   ],
   "source": [
    "nx.shortest_path_length(G, 'D', 'C')"
   ]
  },
  {
   "cell_type": "code",
   "execution_count": 13,
   "id": "41c8632f",
   "metadata": {},
   "outputs": [
    {
     "data": {
      "text/plain": [
       "True"
      ]
     },
     "execution_count": 13,
     "metadata": {},
     "output_type": "execute_result"
    }
   ],
   "source": [
    "nx.is_connected(G)\n"
   ]
  },
  {
   "cell_type": "code",
   "execution_count": 14,
   "id": "29fd7132",
   "metadata": {},
   "outputs": [
    {
     "data": {
      "image/png": "[encoded data removed]",
      "text/plain": [
       "<Figure size 432x288 with 1 Axes>"
      ]
     },
     "metadata": {},
     "output_type": "display_data"
    }
   ],
   "source": [
    "G = nx.Graph()\n",
    "\n",
    "G.add_nodes_from(['A','B','C','D','E'])\n",
    "G.add_edges_from([('A','B'),('B','C'),('C','A'),('D','E')])\n",
    "\n",
    "nx.draw(G, with_labels=True)"
   ]
  },
  {
   "cell_type": "code",
   "execution_count": 15,
   "id": "9fe83d51",
   "metadata": {},
   "outputs": [
    {
     "data": {
      "text/plain": [
       "False"
      ]
     },
     "execution_count": 15,
     "metadata": {},
     "output_type": "execute_result"
    }
   ],
   "source": [
    "nx.is_connected(G)\n"
   ]
  },
  {
   "cell_type": "code",
   "execution_count": 16,
   "id": "284b38c3",
   "metadata": {},
   "outputs": [
    {
     "data": {
      "text/plain": [
       "True"
      ]
     },
     "execution_count": 16,
     "metadata": {},
     "output_type": "execute_result"
    }
   ],
   "source": [
    "nx.has_path(G, 'A', 'C')\n"
   ]
  },
  {
   "cell_type": "code",
   "execution_count": 17,
   "id": "82517199",
   "metadata": {},
   "outputs": [
    {
     "data": {
      "text/plain": [
       "False"
      ]
     },
     "execution_count": 17,
     "metadata": {},
     "output_type": "execute_result"
    }
   ],
   "source": [
    "nx.has_path(G, 'A', 'E')"
   ]
  },
  {
   "cell_type": "code",
   "execution_count": 18,
   "id": "2bd36086",
   "metadata": {},
   "outputs": [
    {
     "data": {
      "text/plain": [
       "2"
      ]
     },
     "execution_count": 18,
     "metadata": {},
     "output_type": "execute_result"
    }
   ],
   "source": [
    "nx.number_connected_components(G)\n"
   ]
  },
  {
   "cell_type": "code",
   "execution_count": 21,
   "id": "2103e495",
   "metadata": {},
   "outputs": [
    {
     "data": {
      "text/plain": [
       "[{'A', 'B', 'C'}, {'D', 'E'}]"
      ]
     },
     "execution_count": 21,
     "metadata": {},
     "output_type": "execute_result"
    }
   ],
   "source": [
    "list(nx.connected_components(G))\n"
   ]
  },
  {
   "cell_type": "code",
   "execution_count": 19,
   "id": "86ce7847",
   "metadata": {},
   "outputs": [
    {
     "data": {
      "text/plain": [
       "3"
      ]
     },
     "execution_count": 19,
     "metadata": {},
     "output_type": "execute_result"
    }
   ],
   "source": [
    "components = list(nx.connected_components(G))\n",
    "len(components[0])"
   ]
  },
  {
   "cell_type": "code",
   "execution_count": 20,
   "id": "77a072d7",
   "metadata": {},
   "outputs": [
    {
     "data": {
      "text/plain": [
       "2"
      ]
     },
     "execution_count": 20,
     "metadata": {},
     "output_type": "execute_result"
    }
   ],
   "source": [
    "components = list(nx.connected_components(G))\n",
    "len(components[1])"
   ]
  },
  {
   "cell_type": "code",
   "execution_count": 21,
   "id": "396aca90",
   "metadata": {},
   "outputs": [
    {
     "data": {
      "text/plain": [
       "{'A', 'B', 'C'}"
      ]
     },
     "execution_count": 21,
     "metadata": {},
     "output_type": "execute_result"
    }
   ],
   "source": [
    "max(nx.connected_components(G), key=len)\n"
   ]
  },
  {
   "cell_type": "code",
   "execution_count": 22,
   "id": "5869b107",
   "metadata": {},
   "outputs": [
    {
     "data": {
      "image/png": "[encoded data removed]",
      "text/plain": [
       "<Figure size 432x288 with 1 Axes>"
      ]
     },
     "metadata": {},
     "output_type": "display_data"
    }
   ],
   "source": [
    "core_nodes = max(nx.connected_components(G), key=len)\n",
    "core = G.subgraph(core_nodes)\n",
    "\n",
    "nx.draw(core, with_labels=True)"
   ]
  },
  {
   "cell_type": "code",
   "execution_count": 23,
   "id": "163d1d10",
   "metadata": {},
   "outputs": [
    {
     "data": {
      "image/png": "[encoded data removed]",
      "text/plain": [
       "<Figure size 432x288 with 1 Axes>"
      ]
     },
     "metadata": {},
     "output_type": "display_data"
    }
   ],
   "source": [
    "D = nx.DiGraph()\n",
    "D.add_edges_from([\n",
    "    (1,2),\n",
    "    (2,3),\n",
    "    (3,2), (3,4), (3,5),\n",
    "    (4,2), (4,5), (4,6),\n",
    "    (5,6),\n",
    "    (6,4),\n",
    "])\n",
    "nx.draw(D, with_labels=True)"
   ]
  },
  {
   "cell_type": "code",
   "execution_count": 24,
   "id": "8a5a051f",
   "metadata": {},
   "outputs": [
    {
     "data": {
      "text/plain": [
       "True"
      ]
     },
     "execution_count": 24,
     "metadata": {},
     "output_type": "execute_result"
    }
   ],
   "source": [
    "nx.has_path(D, 1, 4)\n"
   ]
  },
  {
   "cell_type": "code",
   "execution_count": 25,
   "id": "6dad1dec",
   "metadata": {},
   "outputs": [
    {
     "data": {
      "text/plain": [
       "False"
      ]
     },
     "execution_count": 25,
     "metadata": {},
     "output_type": "execute_result"
    }
   ],
   "source": [
    "nx.has_path(D, 4, 1)\n"
   ]
  },
  {
   "cell_type": "code",
   "execution_count": 26,
   "id": "0e82efe7",
   "metadata": {},
   "outputs": [
    {
     "data": {
      "text/plain": [
       "[2, 3, 5]"
      ]
     },
     "execution_count": 26,
     "metadata": {},
     "output_type": "execute_result"
    }
   ],
   "source": [
    "nx.shortest_path(D, 2, 5)\n"
   ]
  },
  {
   "cell_type": "code",
   "execution_count": 27,
   "id": "fae5bfb3",
   "metadata": {},
   "outputs": [
    {
     "data": {
      "text/plain": [
       "[1, 2, 3, 4]"
      ]
     },
     "execution_count": 27,
     "metadata": {},
     "output_type": "execute_result"
    }
   ],
   "source": [
    "nx.shortest_path(D, 1, 4)\n"
   ]
  },
  {
   "cell_type": "code",
   "execution_count": 28,
   "id": "e9b42b4b",
   "metadata": {},
   "outputs": [
    {
     "data": {
      "text/plain": [
       "[5, 6, 4, 2]"
      ]
     },
     "execution_count": 28,
     "metadata": {},
     "output_type": "execute_result"
    }
   ],
   "source": [
    "nx.shortest_path(D, 5, 2)\n"
   ]
  },
  {
   "cell_type": "code",
   "execution_count": 29,
   "id": "6cfb2340",
   "metadata": {},
   "outputs": [
    {
     "data": {
      "text/plain": [
       "False"
      ]
     },
     "execution_count": 29,
     "metadata": {},
     "output_type": "execute_result"
    }
   ],
   "source": [
    "nx.is_strongly_connected(D)\n"
   ]
  },
  {
   "cell_type": "code",
   "execution_count": 30,
   "id": "164219e0",
   "metadata": {},
   "outputs": [
    {
     "data": {
      "text/plain": [
       "True"
      ]
     },
     "execution_count": 30,
     "metadata": {},
     "output_type": "execute_result"
    }
   ],
   "source": [
    "nx.is_weakly_connected(D)\n"
   ]
  },
  {
   "cell_type": "code",
   "execution_count": 31,
   "id": "e84fd22e",
   "metadata": {},
   "outputs": [
    {
     "data": {
      "text/plain": [
       "[{1, 2, 3, 4, 5, 6}]"
      ]
     },
     "execution_count": 31,
     "metadata": {},
     "output_type": "execute_result"
    }
   ],
   "source": [
    "list(nx.weakly_connected_components(D))\n"
   ]
  },
  {
   "cell_type": "code",
   "execution_count": 32,
   "id": "00bb164f",
   "metadata": {},
   "outputs": [
    {
     "data": {
      "text/plain": [
       "[{2, 3, 4, 5, 6}, {1}]"
      ]
     },
     "execution_count": 32,
     "metadata": {},
     "output_type": "execute_result"
    }
   ],
   "source": [
    "list(nx.strongly_connected_components(D))\n"
   ]
  },
  {
   "cell_type": "code",
   "execution_count": 33,
   "id": "621c437f",
   "metadata": {},
   "outputs": [],
   "source": [
    "G = nx.read_graphml('openflights_usa.graphml')"
   ]
  },
  {
   "cell_type": "code",
   "execution_count": 34,
   "id": "b05ec8b4",
   "metadata": {},
   "outputs": [
    {
     "data": {
      "text/plain": [
       "{'name': 'Indianapolis International Airport',\n",
       " 'latitude': 39.7173,\n",
       " 'longitude': -86.294403,\n",
       " 'IATA': 'IND'}"
      ]
     },
     "execution_count": 34,
     "metadata": {},
     "output_type": "execute_result"
    }
   ],
   "source": [
    "G.nodes['IND']\n"
   ]
  },
  {
   "cell_type": "code",
   "execution_count": 35,
   "id": "f1e12933",
   "metadata": {},
   "outputs": [
    {
     "data": {
      "text/plain": [
       "'Indianapolis International Airport'"
      ]
     },
     "execution_count": 35,
     "metadata": {},
     "output_type": "execute_result"
    }
   ],
   "source": [
    "G.nodes['IND']['name']\n"
   ]
  },
  {
   "cell_type": "code",
   "execution_count": 36,
   "id": "37900060",
   "metadata": {},
   "outputs": [
    {
     "data": {
      "text/plain": [
       "{'name': 'Fairbanks International Airport',\n",
       " 'latitude': 64.81510162,\n",
       " 'longitude': -147.85600280000003,\n",
       " 'IATA': 'FAI'}"
      ]
     },
     "execution_count": 36,
     "metadata": {},
     "output_type": "execute_result"
    }
   ],
   "source": [
    "G.nodes['FAI']"
   ]
  },
  {
   "cell_type": "code",
   "execution_count": 41,
   "id": "9f031180",
   "metadata": {},
   "outputs": [],
   "source": [
    "A = nx.read_edgelist('openflights_usa.edges')"
   ]
  },
  {
   "cell_type": "code",
   "execution_count": 42,
   "id": "52177330",
   "metadata": {},
   "outputs": [
    {
     "data": {
      "text/plain": [
       "EdgeView([('RDD', 'SFO'), ('SFO', 'EUG'), ('SFO', 'MFR'), ('SFO', 'RDM'), ('SFO', 'CIC'), ('SFO', 'ACV'), ('SFO', 'BOS'), ('SFO', 'OGG'), ('SFO', 'MCI'), ('SFO', 'PHX'), ('SFO', 'IND'), ('SFO', 'MKE'), ('SFO', 'PDX'), ('SFO', 'BWI'), ('SFO', 'IAD'), ('SFO', 'SBA'), ('SFO', 'HNL'), ('SFO', 'MSP'), ('SFO', 'SAN'), ('SFO', 'MSY'), ('SFO', 'ONT'), ('SFO', 'OKC'), ('SFO', 'SNA'), ('SFO', 'LAX'), ('SFO', 'BOI'), ('SFO', 'CLE'), ('SFO', 'CVG'), ('SFO', 'MDW'), ('SFO', 'CLT'), ('SFO', 'SAT'), ('SFO', 'MCO'), ('SFO', 'DEN'), ('SFO', 'PHL'), ('SFO', 'RDU'), ('SFO', 'LAS'), ('SFO', 'DAL'), ('SFO', 'SBP'), ('SFO', 'ABQ'), ('SFO', 'TUS'), ('SFO', 'IAH'), ('SFO', 'KOA'), ('SFO', 'CEC'), ('SFO', 'BUR'), ('SFO', 'DTW'), ('SFO', 'DCA'), ('SFO', 'LMT'), ('SFO', 'ORF'), ('SFO', 'FLL'), ('SFO', 'SLC'), ('SFO', 'JFK'), ('SFO', 'DFW'), ('SFO', 'AUS'), ('SFO', 'STL'), ('SFO', 'RNO'), ('SFO', 'ATL'), ('SFO', 'EWR'), ('SFO', 'BFL'), ('SFO', 'FAT'), ('SFO', 'MOD'), ('SFO', 'SMF'), ('SFO', 'COS'), ('SFO', 'MRY'), ('SFO', 'LIH'), ('SFO', 'PIT'), ('SFO', 'PSC'), ('SFO', 'ORD'), ('SFO', 'MIA'), ('SFO', 'SEA'), ('SFO', 'OTH'), ('SFO', 'LGB'), ('SFO', 'PSP'), ('EUG', 'SLC'), ('EUG', 'AZA'), ('EUG', 'LAS'), ('EUG', 'DEN'), ('EUG', 'PDX'), ('EUG', 'SEA'), ('EUG', 'LAX'), ('EUG', 'OAK'), ('SLC', 'IDA'), ('SLC', 'MFR'), ('SLC', 'RDM'), ('SLC', 'FCA'), ('SLC', 'MSO'), ('SLC', 'TWF'), ('SLC', 'FAR'), ('SLC', 'GCC'), ('SLC', 'COD'), ('SLC', 'PIH'), ('SLC', 'RAP'), ('SLC', 'BOS'), ('SLC', 'OAK'), ('SLC', 'OMA'), ('SLC', 'MCI'), ('SLC', 'MSN'), ('SLC', 'PHX'), ('SLC', 'GEG'), ('SLC', 'MEM'), ('SLC', 'LAX'), ('SLC', 'CVG'), ('SLC', 'EWR'), ('SLC', 'BOI'), ('SLC', 'DAL'), ('SLC', 'HLN'), ('SLC', 'DCA'), ('SLC', 'IND'), ('SLC', 'COS'), ('SLC', 'PDX'), ('SLC', 'BWI'), ('SLC', 'VEL'), ('SLC', 'TUL'), ('SLC', 'HNL'), ('SLC', 'MSP'), ('SLC', 'SAN'), ('SLC', 'MSY'), ('SLC', 'ONT'), ('SLC', 'OKC'), ('SLC', 'SNA'), ('SLC', 'CNY'), ('SLC', 'MDW'), ('SLC', 'SJC'), ('SLC', 'SAT'), ('SLC', 'MCO'), ('SLC', 'DEN'), ('SLC', 'PHL'), ('SLC', 'RDU'), ('SLC', 'LAS'), ('SLC', 'ABQ'), ('SLC', 'TUS'), ('SLC', 'BIL'), ('SLC', 'BTM'), ('SLC', 'CLT'), ('SLC', 'BZN'), ('SLC', 'PVD'), ('SLC', 'GJT'), ('SLC', 'BUR'), ('SLC', 'DTW'), ('SLC', 'ANC'), ('SLC', 'PSC'), ('SLC', 'CPR'), ('SLC', 'SGU'), ('SLC', 'LWS'), ('SLC', 'JFK'), ('SLC', 'DFW'), ('SLC', 'AUS'), ('SLC', 'MHT'), ('SLC', 'STL'), ('SLC', 'RNO'), ('SLC', 'ATL'), ('SLC', 'JAC'), ('SLC', 'FAT'), ('SLC', 'EKO'), ('SLC', 'SMF'), ('SLC', 'BNA'), ('SLC', 'RKS'), ('SLC', 'CDC'), ('SLC', 'GTF'), ('SLC', 'LGB'), ('SLC', 'ORD'), ('SLC', 'IAH'), ('SLC', 'SEA'), ('SLC', 'PSP'), ('AZA', 'IDA'), ('AZA', 'MSO'), ('AZA', 'STC'), ('AZA', 'FAR'), ('AZA', 'SGF'), ('AZA', 'SBN'), ('AZA', 'OGD'), ('AZA', 'RAP'), ('AZA', 'ICT'), ('AZA', 'BLI'), ('AZA', 'FWA'), ('AZA', 'CID'), ('AZA', 'PIA'), ('AZA', 'ATW'), ('AZA', 'RST'), ('AZA', 'DLH'), ('AZA', 'PVU'), ('AZA', 'LAS'), ('AZA', 'GRR'), ('AZA', 'MLI'), ('AZA', 'FSD'), ('AZA', 'MOT'), ('AZA', 'GRI'), ('AZA', 'GTF'), ('AZA', 'GFK'), ('AZA', 'BIS'), ('AZA', 'BZN'), ('AZA', 'BIL'), ('AZA', 'RFD'), ('AZA', 'OAK'), ('AZA', 'PSC'), ('LAS', 'IDA'), ('LAS', 'MFR'), ('LAS', 'FCA'), ('LAS', 'MSO'), ('LAS', 'FAR'), ('LAS', 'SGF'), ('LAS', 'XNA'), ('LAS', 'SBN'), ('LAS', 'LRD'), ('LAS', 'RAP'), ('LAS', 'GFK'), ('LAS', 'BOS'), ('LAS', 'OAK'), ('LAS', 'OMA'), ('LAS', 'ICT'), ('LAS', 'MCI'), ('LAS', 'PHX'), ('LAS', 'BUF'), ('LAS', 'GEG'), ('LAS', 'MEM'), ('LAS', 'LAX'), ('LAS', 'CLE'), ('LAS', 'CVG'), ('LAS', 'EWR'), ('LAS', 'BOI'), ('LAS', 'MOT'), ('LAS', 'DCA'), ('LAS', 'FLL'), ('LAS', 'IAH'), ('LAS', 'ELP'), ('LAS', 'HOU'), ('LAS', 'PIT'), ('LAS', 'MIA'), ('LAS', 'SEA'), ('LAS', 'LGB'), ('LAS', 'IND'), ('LAS', 'DLH'), ('LAS', 'SHV'), ('LAS', 'SAT'), ('LAS', 'RDU'), ('LAS', 'AMA'), ('LAS', 'BWI'), ('LAS', 'TUL'), ('LAS', 'MSP'), ('LAS', 'MSY'), ('LAS', 'OKC'), ('LAS', 'ALB'), ('LAS', 'SNA'), ('LAS', 'CPR'), ('LAS', 'CLT'), ('LAS', 'MCO'), ('LAS', 'GTF'), ('LAS', 'TUS'), ('LAS', 'PVD'), ('LAS', 'GJT'), ('LAS', 'BUR'), ('LAS', 'DTW'), ('LAS', 'TPA'), ('LAS', 'MAF'), ('LAS', 'DEN'), ('LAS', 'LIT'), ('LAS', 'DFW'), ('LAS', 'AUS'), ('LAS', 'STL'), ('LAS', 'ATL'), ('LAS', 'GRR'), ('LAS', 'FAT'), ('LAS', 'BNA'), ('LAS', 'GRI'), ('LAS', 'JAX'), ('LAS', 'IAD'), ('LAS', 'MKE'), ('LAS', 'PDX'), ('LAS', 'MRY'), ('LAS', 'SMX'), ('LAS', 'HNL'), ('LAS', 'DSM'), ('LAS', 'SAN'), ('LAS', 'ONT'), ('LAS', 'MDW'), ('LAS', 'SJC'), ('LAS', 'PHL'), ('LAS', 'FSD'), ('LAS', 'SDF'), ('LAS', 'CMH'), ('LAS', 'ABQ'), ('LAS', 'BZN'), ('LAS', 'BIL'), ('LAS', 'RFD'), ('LAS', 'ANC'), ('LAS', 'PSC'), ('LAS', 'BLI'), ('LAS', 'CID'), ('LAS', 'PIA'), ('LAS', 'ATW'), ('LAS', 'JFK'), ('LAS', 'SCK'), ('LAS', 'RNO'), ('LAS', 'BHM'), ('LAS', 'MLI'), ('LAS', 'SMF'), ('LAS', 'COS'), ('LAS', 'BDL'), ('LAS', 'MFE'), ('LAS', 'BIS'), ('LAS', 'LBB'), ('LAS', 'ORD'), ('LAS', 'FNT'), ('LAS', 'PSP'), ('DEN', 'IDA'), ('DEN', 'MFR'), ('DEN', 'RDM'), ('DEN', 'CAK'), ('DEN', 'HSV'), ('DEN', 'PGA'), ('DEN', 'FCA'), ('DEN', 'MSO'), ('DEN', 'EGE'), ('DEN', 'FAR'), ('DEN', 'GCC'), ('DEN', 'CEZ'), ('DEN', 'HDN'), ('DEN', 'LBL'), ('DEN', 'COD'), ('DEN', 'SGF'), ('DEN', 'XNA'), ('DEN', 'RAP'), ('DEN', 'BOS'), ('DEN', 'OAK'), ('DEN', 'OMA'), ('DEN', 'OGG'), ('DEN', 'ICT'), ('DEN', 'MCI'), ('DEN', 'MSN'), ('DEN', 'PHX'), ('DEN', 'GEG'), ('DEN', 'MEM'), ('DEN', 'LAX'), ('DEN', 'CLE'), ('DEN', 'CVG'), ('DEN', 'AIA'), ('DEN', 'EWR'), ('DEN', 'BOI'), ('DEN', 'MOT'), ('DEN', 'HLN'), ('DEN', 'KOA'), ('DEN', 'DCA'), ('DEN', 'PUB'), ('DEN', 'FLL'), ('DEN', 'MDT'), ('DEN', 'LNK'), ('DEN', 'IAH'), ('DEN', 'BFL'), ('DEN', 'ELP'), ('DEN', 'HOU'), ('DEN', 'PIT'), ('DEN', 'MIA'), ('DEN', 'SEA'), ('DEN', 'IND'), ('DEN', 'LIH'), ('DEN', 'SHV'), ('DEN', 'ORF'), ('DEN', 'SAT'), ('DEN', 'RDU'), ('DEN', 'DAY'), ('DEN', 'PHF'), ('DEN', 'TUS'), ('DEN', 'BUR'), ('DEN', 'DTW'), ('DEN', 'TPA'), ('DEN', 'MAF'), ('DEN', 'ISN'), ('DEN', 'LIT'), ('DEN', 'DFW'), ('DEN', 'AUS'), ('DEN', 'BFF'), ('DEN', 'TYS'), ('DEN', 'STL'), ('DEN', 'GRR'), ('DEN', 'ATL'), ('DEN', 'DDC'), ('DEN', 'BNA'), ('DEN', 'FAT'), ('DEN', 'LGA'), ('DEN', 'LBF'), ('DEN', 'JAX'), ('DEN', 'DRO'), ('DEN', 'IAD'), ('DEN', 'MKE'), ('DEN', 'PDX'), ('DEN', 'SHR'), ('DEN', 'HNL'), ('DEN', 'DSM'), ('DEN', 'SAN'), ('DEN', 'ONT'), ('DEN', 'FMN'), ('DEN', 'MDW'), ('DEN', 'SJC'), ('DEN', 'AMA'), ('DEN', 'BWI'), ('DEN', 'TUL'), ('DEN', 'MSP'), ('DEN', 'ILG'), ('DEN', 'MSY'), ('DEN', 'OKC'), ('DEN', 'SNA'), ('DEN', 'CPR'), ('DEN', 'CLT'), ('DEN', 'MCO'), ('DEN', 'GTF'), ('DEN', 'GUC'), ('DEN', 'GSO'), ('DEN', 'RNO'), ('DEN', 'MTJ'), ('DEN', 'ASE'), ('DEN', 'MRY'), ('DEN', 'RKS'), ('DEN', 'SBA'), ('DEN', 'DIK'), ('DEN', 'CDR'), ('DEN', 'ALS'), ('DEN', 'PHL'), ('DEN', 'FSD'), ('DEN', 'LAR'), ('DEN', 'SDF'), ('DEN', 'CMH'), ('DEN', 'ABQ'), ('DEN', 'BZN'), ('DEN', 'BIL'), ('DEN', 'JAC'), ('DEN', 'ANC'), ('DEN', 'PSC'), ('DEN', 'BMI'), ('DEN', 'SAF'), ('DEN', 'CID'), ('DEN', 'PIA'), ('DEN', 'RSW'), ('DEN', 'JFK'), ('DEN', 'PIR'), ('DEN', 'MCK'), ('DEN', 'CYS'), ('DEN', 'GJT'), ('DEN', 'SGU'), ('DEN', 'RIW'), ('DEN', 'BHM'), ('DEN', 'MLI'), ('DEN', 'SMF'), ('DEN', 'COS'), ('DEN', 'BDL'), ('DEN', 'BIS'), ('DEN', 'LBB'), ('DEN', 'ORD'), ('DEN', 'PSP'), ('PDX', 'MFR'), ('PDX', 'RDM'), ('PDX', 'MSO'), ('PDX', 'PDT'), ('PDX', 'BOS'), ('PDX', 'OAK'), ('PDX', 'OGG'), ('PDX', 'MCI'), ('PDX', 'PHX'), ('PDX', 'GEG'), ('PDX', 'LAX'), ('PDX', 'EWR'), ('PDX', 'BOI'), ('PDX', 'DCA'), ('PDX', 'IAH'), ('PDX', 'SEA'), ('PDX', 'LGB'), ('PDX', 'TUS'), ('PDX', 'BUR'), ('PDX', 'DTW'), ('PDX', 'TPA'), ('PDX', 'DFW'), ('PDX', 'ATL'), ('PDX', 'FAT'), ('PDX', 'LMT'), ('PDX', 'IAD'), ('PDX', 'HNL'), ('PDX', 'MSP'), ('PDX', 'SAN'), ('PDX', 'ONT'), ('PDX', 'OKC'), ('PDX', 'SNA'), ('PDX', 'MDW'), ('PDX', 'SJC'), ('PDX', 'PHL'), ('PDX', 'ABQ'), ('PDX', 'BIL'), ('PDX', 'PSC'), ('PDX', 'BLI'), ('PDX', 'JFK'), ('PDX', 'CLT'), ('PDX', 'RNO'), ('PDX', 'STS'), ('PDX', 'SMF'), ('PDX', 'SBA'), ('PDX', 'OTH'), ('PDX', 'ANC'), ('PDX', 'ORD'), ('PDX', 'PSP'), ('SEA', 'MFR'), ('SEA', 'RDM'), ('SEA', 'FCA'), ('SEA', 'MSO'), ('SEA', 'KTN'), ('SEA', 'BOS'), ('SEA', 'OAK'), ('SEA', 'OMA'), ('SEA', 'OGG'), ('SEA', 'MCI'), ('SEA', 'PHX'), ('SEA', 'GEG'), ('SEA', 'LAX'), ('SEA', 'JNU'), ('SEA', 'EWR'), ('SEA', 'BOI'), ('SEA', 'DAL'), ('SEA', 'HLN'), ('SEA', 'KOA'), ('SEA', 'DCA'), ('SEA', 'FLL'), ('SEA', 'IAH'), ('SEA', 'MIA'), ('SEA', 'EAT'), ('SEA', 'MKE'), ('SEA', 'BWI'), ('SEA', 'SBA'), ('SEA', 'HNL'), ('SEA', 'MSP'), ('SEA', 'SAN'), ('SEA', 'ONT'), ('SEA', 'SNA'), ('SEA', 'MDW'), ('SEA', 'CLT'), ('SEA', 'SAT'), ('SEA', 'PHL'), ('SEA', 'ABQ'), ('SEA', 'TUS'), ('SEA', 'IAD'), ('SEA', 'BZN'), ('SEA', 'LGB'), ('SEA', 'RNO'), ('SEA', 'BUR'), ('SEA', 'DTW'), ('SEA', 'TPA'), ('SEA', 'BIL'), ('SEA', 'BLI'), ('SEA', 'JFK'), ('SEA', 'DFW'), ('SEA', 'ALW'), ('SEA', 'AUS'), ('SEA', 'STL'), ('SEA', 'STS'), ('SEA', 'ATL'), ('SEA', 'MCO'), ('SEA', 'FAT'), ('SEA', 'PUW'), ('SEA', 'SMF'), ('SEA', 'COS'), ('SEA', 'LIH'), ('SEA', 'SJC'), ('SEA', 'GTF'), ('SEA', 'YKM'), ('SEA', 'ANC'), ('SEA', 'ORD'), ('SEA', 'LWS'), ('SEA', 'FAI'), ('SEA', 'PSC'), ('SEA', 'PSP'), ('LAX', 'MFR'), ('LAX', 'RDM'), ('LAX', 'ITO'), ('LAX', 'XNA'), ('LAX', 'PRC'), ('LAX', 'BOS'), ('LAX', 'OAK'), ('LAX', 'OGG'), ('LAX', 'ICT'), ('LAX', 'MCI'), ('LAX', 'PHX'), ('LAX', 'GEG'), ('LAX', 'MEM'), ('LAX', 'PVU'), ('LAX', 'IAD'), ('LAX', 'IND'), ('LAX', 'BWI'), ('LAX', 'PBI'), ('LAX', 'YUM'), ('LAX', 'SBA'), ('LAX', 'HNL'), ('LAX', 'MSP'), ('LAX', 'SAN'), ('LAX', 'MSY'), ('LAX', 'SJC'), ('LAX', 'OKC'), ('LAX', 'PWM'), ('LAX', 'CLE'), ('LAX', 'MKE'), ('LAX', 'CVG'), ('LAX', 'CLD'), ('LAX', 'MDW'), ('LAX', 'CLT'), ('LAX', 'SAT'), ('LAX', 'MCO'), ('LAX', 'BOI'), ('LAX', 'PHL'), ('LAX', 'MMH'), ('LAX', 'RDU'), ('LAX', 'CMH'), ('LAX', 'SBP'), ('LAX', 'ABQ'), ('LAX', 'TUS'), ('LAX', 'STL'), ('LAX', 'VIS'), ('LAX', 'KOA'), ('LAX', 'RNO'), ('LAX', 'DTW'), ('LAX', 'TPA'), ('LAX', 'DCA'), ('LAX', 'BLI'), ('LAX', 'ELP'), ('LAX', 'SAF'), ('LAX', 'SMX'), ('LAX', 'FLL'), ('LAX', 'ASE'), ('LAX', 'MCE'), ('LAX', 'JFK'), ('LAX', 'DFW'), ('LAX', 'AUS'), ('LAX', 'IAH'), ('LAX', 'STS'), ('LAX', 'ATL'), ('LAX', 'EWR'), ('LAX', 'BFL'), ('LAX', 'FAT'), ('LAX', 'SMF'), ('LAX', 'BNA'), ('LAX', 'COS'), ('LAX', 'MRY'), ('LAX', 'LIH'), ('LAX', 'HOU'), ('LAX', 'BDL'), ('LAX', 'PIT'), ('LAX', 'ANC'), ('LAX', 'ORD'), ('LAX', 'MIA'), ('LAX', 'PSP'), ('OAK', 'OGG'), ('OAK', 'BLI'), ('OAK', 'MCI'), ('OAK', 'ONT'), ('OAK', 'PHX'), ('OAK', 'GEG'), ('OAK', 'MSP'), ('OAK', 'SAN'), ('OAK', 'PVU'), ('OAK', 'JFK'), ('OAK', 'DFW'), ('OAK', 'OKC'), ('OAK', 'AUS'), ('OAK', 'SNA'), ('OAK', 'HNL'), ('OAK', 'MDW'), ('OAK', 'BOI'), ('OAK', 'LIH'), ('OAK', 'HOU'), ('OAK', 'CMH'), ('OAK', 'ABQ'), ('OAK', 'ORD'), ('OAK', 'KOA'), ('OAK', 'BUR'), ('OAK', 'LGB'), ('OOK', 'MYU'), ('OOK', 'NME'), ('OOK', 'BET'), ('MYU', 'BET'), ('NME', 'BET'), ('BET', 'KWN'), ('BET', 'SCM'), ('BET', 'KKH'), ('BET', 'KUK'), ('BET', 'WNA'), ('BET', 'KWT'), ('BET', 'MLL'), ('BET', 'KPN'), ('BET', 'PTU'), ('BET', 'KLG'), ('BET', 'VAK'), ('BET', 'PKA'), ('BET', 'EMK'), ('BET', 'CYF'), ('BET', 'EEK'), ('BET', 'KWK'), ('BET', 'RSH'), ('BET', 'HPB'), ('BET', 'ANC'), ('ABL', 'OBU'), ('ABL', 'OTZ'), ('ABL', 'SHG'), ('OBU', 'OTZ'), ('OBU', 'SHG'), ('OTZ', 'BKC'), ('OTZ', 'ORV'), ('OTZ', 'WLK'), ('OTZ', 'LUR'), ('OTZ', 'KVL'), ('OTZ', 'WTK'), ('OTZ', 'OME'), ('OTZ', 'IAN'), ('OTZ', 'DRG'), ('OTZ', 'SHG'), ('OTZ', 'ANC'), ('BKC', 'DRG'), ('ITO', 'HNL'), ('ITO', 'OGG'), ('HNL', 'OGG'), ('HNL', 'PHX'), ('HNL', 'EWR'), ('HNL', 'KOA'), ('HNL', 'IAH'), ('HNL', 'LIH'), ('HNL', 'DFW'), ('HNL', 'ATL'), ('HNL', 'IAD'), ('HNL', 'BLI'), ('HNL', 'MKK'), ('HNL', 'LNY'), ('HNL', 'SAN'), ('HNL', 'JHM'), ('HNL', 'JFK'), ('HNL', 'SJC'), ('HNL', 'SMF'), ('HNL', 'ORD'), ('HNL', 'ANC'), ('OGG', 'HNM'), ('OGG', 'MUE'), ('OGG', 'SJC'), ('OGG', 'DFW'), ('OGG', 'PHX'), ('OGG', 'SMF'), ('OGG', 'LNY'), ('OGG', 'LIH'), ('OGG', 'SAN'), ('OGG', 'MKK'), ('OGG', 'ORD'), ('OGG', 'KOA'), ('ORV', 'IAN'), ('KTS', 'TLA'), ('KTS', 'WAA'), ('KTS', 'OME'), ('TLA', 'OME'), ('WAA', 'TNC'), ('WAA', 'SHH'), ('WAA', 'OME'), ('OME', 'KKA'), ('OME', 'SKK'), ('OME', 'TNC'), ('OME', 'ELI'), ('OME', 'GLV'), ('OME', 'SVA'), ('OME', 'GAM'), ('OME', 'SHH'), ('OME', 'UNK'), ('OME', 'WMO'), ('OME', 'ANC'), ('CAK', 'DCA'), ('CAK', 'LGA'), ('CAK', 'ATL'), ('CAK', 'CLT'), ('CAK', 'MCO'), ('CAK', 'ORD'), ('CAK', 'BOS'), ('CAK', 'PHL'), ('CAK', 'DTW'), ('CAK', 'TPA'), ('DCA', 'HSV'), ('DCA', 'HHH'), ('DCA', 'CRW'), ('DCA', 'OAJ'), ('DCA', 'BOS'), ('DCA', 'OMA'), ('DCA', 'MCI'), ('DCA', 'MSN'), ('DCA', 'PHX'), ('DCA', 'BGR'), ('DCA', 'BUF'), ('DCA', 'MEM'), ('DCA', 'CLE'), ('DCA', 'CVG'), ('DCA', 'EWR'), ('DCA', 'MYR'), ('DCA', 'JAX'), ('DCA', 'IAH'), ('DCA', 'MHT'), ('DCA', 'HPN'), ('DCA', 'PNS'), ('DCA', 'PBI'), ('DCA', 'MSP'), ('DCA', 'IND'), ('DCA', 'MSY'), ('DCA', 'PWM'), ('DCA', 'ALB'), ('DCA', 'ORF'), ('DCA', 'SAV'), ('DCA', 'ILM'), ('DCA', 'SYR'), ('DCA', 'CLT'), ('DCA', 'BDL'), ('DCA', 'PHL'), ('DCA', 'ROC'), ('DCA', 'RDU'), ('DCA', 'DAY'), ('DCA', 'PIT'), ('DCA', 'SDF'), ('DCA', 'CMH'), ('DCA', 'LEX'), ('DCA', 'CHS'), ('DCA', 'LGA'), ('DCA', 'PVD'), ('DCA', 'DTW'), ('DCA', 'TPA'), ('DCA', 'GSP'), ('DCA', 'VPS'), ('DCA', 'AGS'), ('DCA', 'LIT'), ('DCA', 'FLL'), ('DCA', 'RSW'), ('DCA', 'SRQ'), ('DCA', 'MKE'), ('DCA', 'JFK'), ('DCA', 'DFW'), ('DCA', 'LAN'), ('DCA', 'AUS'), ('DCA', 'TYS'), ('DCA', 'STL'), ('DCA', 'ATL'), ('DCA', 'BHM'), ('DCA', 'MCO'), ('DCA', 'DSM'), ('DCA', 'CAE'), ('DCA', 'BNA'), ('DCA', 'HOU'), ('DCA', 'GSO'), ('DCA', 'TLH'), ('DCA', 'SAN'), ('DCA', 'JAN'), ('DCA', 'ORD'), ('DCA', 'MIA'), ('DCA', 'CHA'), ('DCA', 'ISP'), ('DCA', 'FAY'), ('DCA', 'BTV'), ('LGA', 'XNA'), ('LGA', 'BOS'), ('LGA', 'OMA'), ('LGA', 'MCI'), ('LGA', 'MSN'), ('LGA', 'BGR'), ('LGA', 'BUF'), ('LGA', 'MEM'), ('LGA', 'CLE'), ('LGA', 'CVG'), ('LGA', 'MYR'), ('LGA', 'FLL'), ('LGA', 'IAH'), ('LGA', 'HOU'), ('LGA', 'PIT'), ('LGA', 'MIA'), ('LGA', 'IND'), ('LGA', 'RIC'), ('LGA', 'ORF'), ('LGA', 'SAV'), ('LGA', 'ROC'), ('LGA', 'RDU'), ('LGA', 'DAY'), ('LGA', 'DTW'), ('LGA', 'TPA'), ('LGA', 'LIT'), ('LGA', 'DFW'), ('LGA', 'TYS'), ('LGA', 'STL'), ('LGA', 'GRR'), ('LGA', 'ATL'), ('LGA', 'BNA'), ('LGA', 'JAX'), ('LGA', 'IAD'), ('LGA', 'MHT'), ('LGA', 'ILM'), ('LGA', 'PBI'), ('LGA', 'DSM'), ('LGA', 'MSP'), ('LGA', 'CHS'), ('LGA', 'MSY'), ('LGA', 'PWM'), ('LGA', 'CMH'), ('LGA', 'MKE'), ('LGA', 'SYR'), ('LGA', 'EYW'), ('LGA', 'CLT'), ('LGA', 'MCO'), ('LGA', 'PHL'), ('LGA', 'SDF'), ('LGA', 'CHO'), ('LGA', 'ROA'), ('LGA', 'LEX'), ('LGA', 'GSP'), ('LGA', 'SRQ'), ('LGA', 'BHM'), ('LGA', 'CAE'), ('LGA', 'MDW'), ('LGA', 'GSO'), ('LGA', 'ORD'), ('LGA', 'RSW'), ('LGA', 'BTV'), ('ATL', 'HSV'), ('ATL', 'MGM'), ('ATL', 'TRI'), ('ATL', 'MBS'), ('ATL', 'GRK'), ('ATL', 'CSG'), ('ATL', 'GTR'), ('ATL', 'CRW'), ('ATL', 'AVP'), ('ATL', 'FAR'), ('ATL', 'MEI'), ('ATL', 'SGF'), ('ATL', 'ABE'), ('ATL', 'XNA'), ('ATL', 'SBN'), ('ATL', 'OAJ'), ('ATL', 'FSM'), ('ATL', 'TTN'), ('ATL', 'BOS'), ('ATL', 'OMA'), ('ATL', 'ICT'), ('ATL', 'MCI'), ('ATL', 'MSN'), ('ATL', 'PHX'), ('ATL', 'BUF'), ('ATL', 'GNV'), ('ATL', 'MEM'), ('ATL', 'CLE'), ('ATL', 'CVG'), ('ATL', 'LFT'), ('ATL', 'EWR'), ('ATL', 'DAL'), ('ATL', 'MYR'), ('ATL', 'FLL'), ('ATL', 'MDT'), ('ATL', 'LAN'), ('ATL', 'IAH'), ('ATL', 'ELP'), ('ATL', 'PNS'), ('ATL', 'HOU'), ('ATL', 'PIT'), ('ATL', 'ECP'), ('ATL', 'MIA'), ('ATL', 'CHA'), ('ATL', 'JAN'), ('ATL', 'IND'), ('ATL', 'HPN'), ('ATL', 'RIC'), ('ATL', 'SHV'), ('ATL', 'ORF'), ('ATL', 'SAV'), ('ATL', 'SAT'), ('ATL', 'ROC'), ('ATL', 'RDU'), ('ATL', 'DAY'), ('ATL', 'PHF'), ('ATL', 'TUS'), ('ATL', 'PVD'), ('ATL', 'DTW'), ('ATL', 'TPA'), ('ATL', 'GRB'), ('ATL', 'AGS'), ('ATL', 'LIT'), ('ATL', 'ABY'), ('ATL', 'DFW'), ('ATL', 'MLB'), ('ATL', 'AUS'), ('ATL', 'TYS'), ('ATL', 'BQK'), ('ATL', 'STL'), ('ATL', 'GRR'), ('ATL', 'BTR'), ('ATL', 'BWI'), ('ATL', 'AEX'), ('ATL', 'TUL'), ('ATL', 'MSP'), ('ATL', 'MSY'), ('ATL', 'PWM'), ('ATL', 'OKC'), ('ATL', 'ALB'), ('ATL', 'SNA'), ('ATL', 'ILM'), ('ATL', 'VPS'), ('ATL', 'EYW'), ('ATL', 'CLT'), ('ATL', 'MCO'), ('ATL', 'LWB'), ('ATL', 'SRQ'), ('ATL', 'FAY'), ('ATL', 'DAB'), ('ATL', 'TLH'), ('ATL', 'MOB'), ('ATL', 'SMF'), ('ATL', 'MSL'), ('ATL', 'BNA'), ('ATL', 'BTV'), ('ATL', 'JAX'), ('ATL', 'IAD'), ('ATL', 'COS'), ('ATL', 'MKE'), ('ATL', 'PBI'), ('ATL', 'TUP'), ('ATL', 'DSM'), ('ATL', 'EWN'), ('ATL', 'SAN'), ('ATL', 'MLU'), ('ATL', 'VLD'), ('ATL', 'DHN'), ('ATL', 'SYR'), ('ATL', 'SJC'), ('ATL', 'AVL'), ('ATL', 'GSO'), ('ATL', 'FSD'), ('ATL', 'MCN'), ('ATL', 'MHT'), ('ATL', 'SDF'), ('ATL', 'CHO'), ('ATL', 'ROA'), ('ATL', 'LEX'), ('ATL', 'EVV'), ('ATL', 'ABQ'), ('ATL', 'BDL'), ('ATL', 'GSP'), ('ATL', 'BMI'), ('ATL', 'GPT'), ('ATL', 'AZO'), ('ATL', 'FWA'), ('ATL', 'CID'), ('ATL', 'PIA'), ('ATL', 'ATW'), ('ATL', 'RSW'), ('ATL', 'MDW'), ('ATL', 'JFK'), ('ATL', 'CHS'), ('ATL', 'BHM'), ('ATL', 'MLI'), ('ATL', 'CAE'), ('ATL', 'PHL'), ('ATL', 'ORD'), ('ATL', 'FNT'), ('ATL', 'PIB'), ('ATL', 'CMH'), ('CLT', 'HSV'), ('CLT', 'MGM'), ('CLT', 'TRI'), ('CLT', 'HHH'), ('CLT', 'CRW'), ('CLT', 'AVP'), ('CLT', 'ABE'), ('CLT', 'XNA'), ('CLT', 'OAJ'), ('CLT', 'TTN'), ('CLT', 'BOS'), ('CLT', 'OMA'), ('CLT', 'MCI'), ('CLT', 'PHX'), ('CLT', 'BUF'), ('CLT', 'GNV'), ('CLT', 'MEM'), ('CLT', 'CLE'), ('CLT', 'CVG'), ('CLT', 'EWR'), ('CLT', 'MYR'), ('CLT', 'FLL'), ('CLT', 'MDT'), ('CLT', 'IAH'), ('CLT', 'PNS'), ('CLT', 'HOU'), ('CLT', 'PIT'), ('CLT', 'MIA'), ('CLT', 'CHA'), ('CLT', 'JAN'), ('CLT', 'IND'), ('CLT', 'HPN'), ('CLT', 'RIC'), ('CLT', 'ORF'), ('CLT', 'SAV'), ('CLT', 'SAT'), ('CLT', 'ROC'), ('CLT', 'RDU'), ('CLT', 'DAY'), ('CLT', 'PHF'), ('CLT', 'PVD'), ('CLT', 'SBY'), ('CLT', 'DTW'), ('CLT', 'TPA'), ('CLT', 'LUK'), ('CLT', 'AGS'), ('CLT', 'LIT'), ('CLT', 'DFW'), ('CLT', 'MLB'), ('CLT', 'AUS'), ('CLT', 'TYS'), ('CLT', 'STL'), ('CLT', 'BNA'), ('CLT', 'HTS'), ('CLT', 'TLH'), ('CLT', 'LYH'), ('CLT', 'FAY'), ('CLT', 'JAX'), ('CLT', 'IAD'), ('CLT', 'MKE'), ('CLT', 'PBI'), ('CLT', 'DSM'), ('CLT', 'EWN'), ('CLT', 'SAN'), ('CLT', 'SYR'), ('CLT', 'MDW'), ('CLT', 'PHL'), ('CLT', 'CMH'), ('CLT', 'MOB'), ('CLT', 'RSW'), ('CLT', 'JFK'), ('CLT', 'CHS'), ('CLT', 'BHM'), ('CLT', 'SMF'), ('CLT', 'BDL'), ('CLT', 'ORD'), ('CLT', 'ILM'), ('CLT', 'BTR'), ('CLT', 'BWI'), ('CLT', 'MSP'), ('CLT', 'MSY'), ('CLT', 'PWM'), ('CLT', 'ALB'), ('CLT', 'VPS'), ('CLT', 'CHO'), ('CLT', 'MCO'), ('CLT', 'FLO'), ('CLT', 'PGV'), ('CLT', 'SRQ'), ('CLT', 'DAB'), ('CLT', 'GSO'), ('CLT', 'MHT'), ('CLT', 'SDF'), ('CLT', 'ROA'), ('CLT', 'LEX'), ('CLT', 'GSP'), ('CLT', 'GPT'), ('CLT', 'CAE'), ('CLT', 'AVL'), ('MCO', 'ORH'), ('MCO', 'TTN'), ('MCO', 'BOS'), ('MCO', 'OMA'), ('MCO', 'MCI'), ('MCO', 'PHX'), ('MCO', 'BUF'), ('MCO', 'GNV'), ('MCO', 'MEM'), ('MCO', 'CLE'), ('MCO', 'CVG'), ('MCO', 'EWR'), ('MCO', 'ACY'), ('MCO', 'FLL'), ('MCO', 'MDT'), ('MCO', 'IAH'), ('MCO', 'PNS'), ('MCO', 'HOU'), ('MCO', 'PIT'), ('MCO', 'MIA'), ('MCO', 'JAN'), ('MCO', 'IND'), ('MCO', 'HPN'), ('MCO', 'RIC'), ('MCO', 'ORF'), ('MCO', 'SAT'), ('MCO', 'ROC'), ('MCO', 'RDU'), ('MCO', 'DAY'), ('MCO', 'PVD'), ('MCO', 'DTW'), ('MCO', 'SWF'), ('MCO', 'DFW'), ('MCO', 'AUS'), ('MCO', 'STL'), ('MCO', 'GRR'), ('MCO', 'BNA'), ('MCO', 'TLH'), ('MCO', 'LBE'), ('MCO', 'IAD'), ('MCO', 'MKE'), ('MCO', 'SAN'), ('MCO', 'SYR'), ('MCO', 'MDW'), ('MCO', 'PHL'), ('MCO', 'MCN'), ('MCO', 'CMH'), ('MCO', 'RSW'), ('MCO', 'JFK'), ('MCO', 'BHM'), ('MCO', 'BDL'), ('MCO', 'ORD'), ('MCO', 'BWI'), ('MCO', 'ISP'), ('MCO', 'MSP'), ('MCO', 'ILG'), ('MCO', 'MSY'), ('MCO', 'ALB'), ('MCO', 'EYW'), ('MCO', 'MHT'), ('MCO', 'SDF'), ('MCO', 'BMI'), ('MCO', 'FNT'), ('ORD', 'HSV'), ('ORD', 'PAH'), ('ORD', 'MBS'), ('ORD', 'STC'), ('ORD', 'CRW'), ('ORD', 'AVP'), ('ORD', 'FAR'), ('ORD', 'SCE'), ('ORD', 'SPI'), ('ORD', 'SGF'), ('ORD', 'ABE'), ('ORD', 'XNA'), ('ORD', 'SBN'), ('ORD', 'DBQ'), ('ORD', 'RAP'), ('ORD', 'BOS'), ('ORD', 'OMA'), ('ORD', 'ICT'), ('ORD', 'MCI'), ('ORD', 'MSN'), ('ORD', 'PHX'), ('ORD', 'BUF'), ('ORD', 'MEM'), ('ORD', 'CLE'), ('ORD', 'CVG'), ('ORD', 'EWR'), ('ORD', 'BOI'), ('ORD', 'MYR'), ('ORD', 'ACY'), ('ORD', 'FLL'), ('ORD', 'MDT'), ('ORD', 'LNK'), ('ORD', 'LAN'), ('ORD', 'IAH'), ('ORD', 'ELP'), ('ORD', 'PNS'), ('ORD', 'PIT'), ('ORD', 'MIA'), ('ORD', 'CHA'), ('ORD', 'JAN'), ('ORD', 'IND'), ('ORD', 'HPN'), ('ORD', 'DLH'), ('ORD', 'RIC'), ('ORD', 'ORF'), ('ORD', 'SAV'), ('ORD', 'MQT'), ('ORD', 'SAT'), ('ORD', 'ROC'), ('ORD', 'RDU'), ('ORD', 'DAY'), ('ORD', 'TUS'), ('ORD', 'BRL'), ('ORD', 'PVD'), ('ORD', 'DTW'), ('ORD', 'TPA'), ('ORD', 'GRB'), ('ORD', 'LIT'), ('ORD', 'DFW'), ('ORD', 'AUS'), ('ORD', 'TYS'), ('ORD', 'STL'), ('ORD', 'GRR'), ('ORD', 'CMX'), ('ORD', 'EAU'), ('ORD', 'BNA'), ('ORD', 'MKG'), ('ORD', 'BTV'), ('ORD', 'JAX'), ('ORD', 'IAD'), ('ORD', 'MKE'), ('ORD', 'COU'), ('ORD', 'PBI'), ('ORD', 'DSM'), ('ORD', 'SAN'), ('ORD', 'SYR'), ('ORD', 'SJC'), ('ORD', 'PHL'), ('ORD', 'SUX'), ('ORD', 'CMH'), ('ORD', 'ANC'), ('ORD', 'MOB'), ('ORD', 'ALO'), ('ORD', 'RSW'), ('ORD', 'JFK'), ('ORD', 'CHS'), ('ORD', 'RNO'), ('ORD', 'BHM'), ('ORD', 'SMF'), ('ORD', 'COS'), ('ORD', 'BDL'), ('ORD', 'CMI'), ('ORD', 'BWI'), ('ORD', 'TUL'), ('ORD', 'MSP'), ('ORD', 'FOE'), ('ORD', 'MSY'), ('ORD', 'PWM'), ('ORD', 'OKC'), ('ORD', 'ALB'), ('ORD', 'SNA'), ('ORD', 'SRQ'), ('ORD', 'LSE'), ('ORD', 'AVL'), ('ORD', 'ELM'), ('ORD', 'GSO'), ('ORD', 'FSD'), ('ORD', 'MHT'), ('ORD', 'SDF'), ('ORD', 'CHO'), ('ORD', 'ROA'), ('ORD', 'LEX'), ('ORD', 'EVV'), ('ORD', 'ABQ'), ('ORD', 'BZN'), ('ORD', 'TVC'), ('ORD', 'GSP'), ('ORD', 'BMI'), ('ORD', 'AZO'), ('ORD', 'TOL'), ('ORD', 'FWA'), ('ORD', 'DEC'), ('ORD', 'CID'), ('ORD', 'CWA'), ('ORD', 'PIA'), ('ORD', 'RST'), ('ORD', 'MHK'), ('ORD', 'ATW'), ('ORD', 'MLI'), ('ORD', 'CAE'), ('ORD', 'FNT'), ('ORD', 'ART'), ('ORD', 'PSP'), ('BOS', 'MVY'), ('BOS', 'HYA'), ('BOS', 'PVC'), ('BOS', 'JAX'), ('BOS', 'IND'), ('BOS', 'IAD'), ('BOS', 'MDT'), ('BOS', 'PHX'), ('BOS', 'RUT'), ('BOS', 'BWI'), ('BOS', 'SLK'), ('BOS', 'MCI'), ('BOS', 'ISP'), ('BOS', 'MSP'), ('BOS', 'SAN'), ('BOS', 'MSY'), ('BOS', 'ALB'), ('BOS', 'DTW'), ('BOS', 'CLE'), ('BOS', 'MKE'), ('BOS', 'CVG'), ('BOS', 'SYR'), ('BOS', 'MDW'), ('BOS', 'PHL'), ('BOS', 'RDU'), ('BOS', 'CMH'), ('BOS', 'SJC'), ('BOS', 'STL'), ('BOS', 'BHB'), ('BOS', 'RKD'), ('BOS', 'MYR'), ('BOS', 'PBI'), ('BOS', 'TPA'), ('BOS', 'AUG'), ('BOS', 'ACY'), ('BOS', 'RIC'), ('BOS', 'PQI'), ('BOS', 'FLL'), ('BOS', 'SAV'), ('BOS', 'RSW'), ('BOS', 'JFK'), ('BOS', 'DFW'), ('BOS', 'AUS'), ('BOS', 'IAH'), ('BOS', 'CHS'), ('BOS', 'PBG'), ('BOS', 'EWR'), ('BOS', 'BNA'), ('BOS', 'ROC'), ('BOS', 'BUF'), ('BOS', 'HOU'), ('BOS', 'ACK'), ('BOS', 'PIT'), ('BOS', 'LEB'), ('BOS', 'MIA'), ('BOS', 'LGB'), ('PHL', 'BGM'), ('PHL', 'ERI'), ('PHL', 'AVP'), ('PHL', 'SCE'), ('PHL', 'ABE'), ('PHL', 'ICT'), ('PHL', 'MCI'), ('PHL', 'PHX'), ('PHL', 'BGR'), ('PHL', 'BUF'), ('PHL', 'CLE'), ('PHL', 'CVG'), ('PHL', 'EWR'), ('PHL', 'MYR'), ('PHL', 'FLL'), ('PHL', 'MDT'), ('PHL', 'IAH'), ('PHL', 'ELP'), ('PHL', 'PIT'), ('PHL', 'MIA'), ('PHL', 'IPT'), ('PHL', 'IND'), ('PHL', 'HPN'), ('PHL', 'RIC'), ('PHL', 'ORF'), ('PHL', 'SAV'), ('PHL', 'SAT'), ('PHL', 'ROC'), ('PHL', 'RDU'), ('PHL', 'DAY'), ('PHL', 'PHF'), ('PHL', 'PVD'), ('PHL', 'SBY'), ('PHL', 'DTW'), ('PHL', 'TPA'), ('PHL', 'SWF'), ('PHL', 'DFW'), ('PHL', 'AUS'), ('PHL', 'TYS'), ('PHL', 'STL'), ('PHL', 'BNA'), ('PHL', 'BTV'), ('PHL', 'JAX'), ('PHL', 'IAD'), ('PHL', 'MKE'), ('PHL', 'PBI'), ('PHL', 'SAN'), ('PHL', 'SYR'), ('PHL', 'MDW'), ('PHL', 'BWI'), ('PHL', 'ISP'), ('PHL', 'MSP'), ('PHL', 'MSY'), ('PHL', 'PWM'), ('PHL', 'ALB'), ('PHL', 'ILM'), ('PHL', 'ITH'), ('PHL', 'ELM'), ('PHL', 'GSO'), ('PHL', 'MHT'), ('PHL', 'SDF'), ('PHL', 'CHO'), ('PHL', 'ROA'), ('PHL', 'GSP'), ('PHL', 'RSW'), ('PHL', 'JFK'), ('PHL', 'CHS'), ('PHL', 'BHM'), ('PHL', 'CAE'), ('PHL', 'BDL'), ('PHL', 'HVN'), ('PHL', 'CMH'), ('PHL', 'ART'), ('DTW', 'HSV'), ('DTW', 'MBS'), ('DTW', 'BGM'), ('DTW', 'ERI'), ('DTW', 'CRW'), ('DTW', 'AVP'), ('DTW', 'SCE'), ('DTW', 'ABE'), ('DTW', 'XNA'), ('DTW', 'SBN'), ('DTW', 'TTN'), ('DTW', 'OMA'), ('DTW', 'MCI'), ('DTW', 'MSN'), ('DTW', 'PHX'), ('DTW', 'BGR'), ('DTW', 'BUF'), ('DTW', 'MEM'), ('DTW', 'CLE'), ('DTW', 'CVG'), ('DTW', 'EWR'), ('DTW', 'MYR'), ('DTW', 'ACY'), ('DTW', 'FLL'), ('DTW', 'MDT'), ('DTW', 'LAN'), ('DTW', 'IAH'), ('DTW', 'PIT'), ('DTW', 'MIA'), ('DTW', 'CHA'), ('DTW', 'IND'), ('DTW', 'HPN'), ('DTW', 'RIC'), ('DTW', 'ORF'), ('DTW', 'SAV'), ('DTW', 'MQT'), ('DTW', 'SAT'), ('DTW', 'ROC'), ('DTW', 'RDU'), ('DTW', 'DAY'), ('DTW', 'PVD'), ('DTW', 'BWI'), ('DTW', 'TUL'), ('DTW', 'MSP'), ('DTW', 'ILG'), ('DTW', 'MSY'), ('DTW', 'PWM'), ('DTW', 'OKC'), ('DTW', 'ALB'), ('DTW', 'CHS'), ('DTW', 'TPA'), ('DTW', 'GRB'), ('DTW', 'LIT'), ('DTW', 'SWF'), ('DTW', 'DFW'), ('DTW', 'APN'), ('DTW', 'AUS'), ('DTW', 'TYS'), ('DTW', 'STL'), ('DTW', 'CIU'), ('DTW', 'GRR'), ('DTW', 'BNA'), ('DTW', 'ITH'), ('DTW', 'ELM'), ('DTW', 'BTV'), ('DTW', 'JAX'), ('DTW', 'IAD'), ('DTW', 'MKE'), ('DTW', 'PBI'), ('DTW', 'DSM'), ('DTW', 'SAN'), ('DTW', 'SYR'), ('DTW', 'MDW'), ('DTW', 'GSO'), ('DTW', 'MHT'), ('DTW', 'SDF'), ('DTW', 'CMH'), ('DTW', 'ROA'), ('DTW', 'LEX'), ('DTW', 'EVV'), ('DTW', 'TVC'), ('DTW', 'ESC'), ('DTW', 'GSP'), ('DTW', 'BMI'), ('DTW', 'ATW'), ('DTW', 'AZO'), ('DTW', 'FWA'), ('DTW', 'CID'), ('DTW', 'CWA'), ('DTW', 'PIA'), ('DTW', 'RSW'), ('DTW', 'PLN'), ('DTW', 'JFK'), ('DTW', 'BHM'), ('DTW', 'MLI'), ('DTW', 'CAE'), ('DTW', 'AVL'), ('DTW', 'BDL'), ('TPA', 'TTN'), ('TPA', 'MCI'), ('TPA', 'PHX'), ('TPA', 'BUF'), ('TPA', 'GNV'), ('TPA', 'MEM'), ('TPA', 'CLE'), ('TPA', 'CVG'), ('TPA', 'EWR'), ('TPA', 'ACY'), ('TPA', 'FLL'), ('TPA', 'IAH'), ('TPA', 'PNS'), ('TPA', 'HOU'), ('TPA', 'PIT'), ('TPA', 'MIA'), ('TPA', 'IND'), ('TPA', 'HPN'), ('TPA', 'SAT'), ('TPA', 'ROC'), ('TPA', 'RDU'), ('TPA', 'DAY'), ('TPA', 'PVD'), ('TPA', 'JAX'), ('TPA', 'MHT'), ('TPA', 'CHS'), ('TPA', 'BWI'), ('TPA', 'PBI'), ('TPA', 'IAD'), ('TPA', 'MSP'), ('TPA', 'ILG'), ('TPA', 'MSY'), ('TPA', 'ALB'), ('TPA', 'MKE'), ('TPA', 'EYW'), ('TPA', 'TLH'), ('TPA', 'SDF'), ('TPA', 'CMH'), ('TPA', 'STL'), ('TPA', 'MDW'), ('TPA', 'JFK'), ('TPA', 'DFW'), ('TPA', 'AUS'), ('TPA', 'BHM'), ('TPA', 'GRR'), ('TPA', 'BNA'), ('TPA', 'BDL'), ('TPA', 'FNT'), ('TPA', 'ISP'), ('HSV', 'DFW'), ('HSV', 'IAD'), ('HSV', 'IAH'), ('DFW', 'MGM'), ('DFW', 'GRK'), ('DFW', 'LAW'), ('DFW', 'CRW'), ('DFW', 'FAR'), ('DFW', 'SPI'), ('DFW', 'SGF'), ('DFW', 'JLN'), ('DFW', 'XNA'), ('DFW', 'LRD'), ('DFW', 'GGG'), ('DFW', 'RAP'), ('DFW', 'FSM'), ('DFW', 'OMA'), ('DFW', 'ICT'), ('DFW', 'MCI'), ('DFW', 'MSN'), ('DFW', 'PHX'), ('DFW', 'MEM'), ('DFW', 'CLE'), ('DFW', 'CVG'), ('DFW', 'LFT'), ('DFW', 'EWR'), ('DFW', 'GCK'), ('DFW', 'LCH'), ('DFW', 'MYR'), ('DFW', 'FLL'), ('DFW', 'IAH'), ('DFW', 'ELP'), ('DFW', 'PNS'), ('DFW', 'HOU'), ('DFW', 'PIT'), ('DFW', 'MIA'), ('DFW', 'CHA'), ('DFW', 'JAN'), ('DFW', 'IND'), ('DFW', 'RIC'), ('DFW', 'SHV'), ('DFW', 'ORF'), ('DFW', 'BPT'), ('DFW', 'SAV'), ('DFW', 'SAT'), ('DFW', 'RDU'), ('DFW', 'DAY'), ('DFW', 'TUS'), ('DFW', 'SPS'), ('DFW', 'MAF'), ('DFW', 'LIT'), ('DFW', 'AMA'), ('DFW', 'BTR'), ('DFW', 'TYR'), ('DFW', 'BWI'), ('DFW', 'AEX'), ('DFW', 'TUL'), ('DFW', 'MSP'), ('DFW', 'MSY'), ('DFW', 'OKC'), ('DFW', 'SNA'), ('DFW', 'VPS'), ('DFW', 'CHS'), ('DFW', 'RNO'), ('DFW', 'AUS'), ('DFW', 'TYS'), ('DFW', 'STL'), ('DFW', 'GRR'), ('DFW', 'FAT'), ('DFW', 'BNA'), ('DFW', 'GRI'), ('DFW', 'TLH'), ('DFW', 'ACT'), ('DFW', 'SJT'), ('DFW', 'JAX'), ('DFW', 'DRO'), ('DFW', 'IAD'), ('DFW', 'CLL'), ('DFW', 'MKE'), ('DFW', 'ABI'), ('DFW', 'COU'), ('DFW', 'PBI'), ('DFW', 'DSM'), ('DFW', 'SAN'), ('DFW', 'MLU'), ('DFW', 'ONT'), ('DFW', 'ROW'), ('DFW', 'BRO'), ('DFW', 'SJC'), ('DFW', 'GSO'), ('DFW', 'FSD'), ('DFW', 'SDF'), ('DFW', 'CMH'), ('DFW', 'MOB'), ('DFW', 'LEX'), ('DFW', 'EVV'), ('DFW', 'ABQ'), ('DFW', 'TXK'), ('DFW', 'CRP'), ('DFW', 'GSP'), ('DFW', 'BMI'), ('DFW', 'GPT'), ('DFW', 'SAF'), ('DFW', 'FWA'), ('DFW', 'CID'), ('DFW', 'PIA'), ('DFW', 'CMI'), ('DFW', 'MHK'), ('DFW', 'JFK'), ('DFW', 'GJT'), ('DFW', 'BHM'), ('DFW', 'MLI'), ('DFW', 'CAE'), ('DFW', 'COS'), ('DFW', 'BDL'), ('DFW', 'MFE'), ('DFW', 'LBB'), ('DFW', 'RSW'), ('DFW', 'SMF'), ('DFW', 'PSP'), ('IAD', 'BGM'), ('IAD', 'JST'), ('IAD', 'MGW'), ('IAD', 'CRW'), ('IAD', 'SCE'), ('IAD', 'HGR'), ('IAD', 'CKB'), ('IAD', 'OMA'), ('IAD', 'MCI'), ('IAD', 'PHX'), ('IAD', 'BUF'), ('IAD', 'CLE'), ('IAD', 'CVG'), ('IAD', 'EWR'), ('IAD', 'FLL'), ('IAD', 'MDT'), ('IAD', 'IAH'), ('IAD', 'PIT'), ('IAD', 'MIA'), ('IAD', 'LGB'), ('IAD', 'IND'), ('IAD', 'RIC'), ('IAD', 'ORF'), ('IAD', 'SAV'), ('IAD', 'SAT'), ('IAD', 'ROC'), ('IAD', 'BKW'), ('IAD', 'RDU'), ('IAD', 'DAY'), ('IAD', 'PVD'), ('IAD', 'AUS'), ('IAD', 'TYS'), ('IAD', 'STL'), ('IAD', 'GRR'), ('IAD', 'BNA'), ('IAD', 'FAY'), ('IAD', 'BTV'), ('IAD', 'JAX'), ('IAD', 'CHS'), ('IAD', 'TUL'), ('IAD', 'MSP'), ('IAD', 'SAN'), ('IAD', 'MSY'), ('IAD', 'SHD'), ('IAD', 'OKC'), ('IAD', 'CHO'), ('IAD', 'SYR'), ('IAD', 'SDF'), ('IAD', 'CMH'), ('IAD', 'ROA'), ('IAD', 'GSO'), ('IAD', 'GSP'), ('IAD', 'LWB'), ('IAD', 'LNS'), ('IAD', 'ALB'), ('IAD', 'JFK'), ('IAD', 'PWM'), ('IAD', 'CAE'), ('IAD', 'COS'), ('IAD', 'MDW'), ('IAD', 'AOO'), ('IAD', 'BDL'), ('IAD', 'SMF'), ('IAH', 'GRK'), ('IAH', 'CRW'), ('IAH', 'XNA'), ('IAH', 'LRD'), ('IAH', 'OMA'), ('IAH', 'ICT'), ('IAH', 'MCI'), ('IAH', 'PHX'), ('IAH', 'MEM'), ('IAH', 'CLE'), ('IAH', 'CVG'), ('IAH', 'LFT'), ('IAH', 'EWR'), ('IAH', 'DAL'), ('IAH', 'LCH'), ('IAH', 'ACY'), ('IAH', 'FLL'), ('IAH', 'AMA'), ('IAH', 'IND'), ('IAH', 'BTR'), ('IAH', 'TYR'), ('IAH', 'BWI'), ('IAH', 'AEX'), ('IAH', 'TUL'), ('IAH', 'MSP'), ('IAH', 'MSY'), ('IAH', 'OKC'), ('IAH', 'RIC'), ('IAH', 'SHV'), ('IAH', 'SNA'), ('IAH', 'SAV'), ('IAH', 'VPS'), ('IAH', 'SAT'), ('IAH', 'RDU'), ('IAH', 'TUS'), ('IAH', 'MAF'), ('IAH', 'LIT'), ('IAH', 'HOB'), ('IAH', 'AUS'), ('IAH', 'TYS'), ('IAH', 'STL'), ('IAH', 'GRR'), ('IAH', 'BNA'), ('IAH', 'SMF'), ('IAH', 'JAX'), ('IAH', 'CLL'), ('IAH', 'MKE'), ('IAH', 'PBI'), ('IAH', 'VCT'), ('IAH', 'DSM'), ('IAH', 'SAN'), ('IAH', 'MLU'), ('IAH', 'ONT'), ('IAH', 'BRO'), ('IAH', 'ORF'), ('IAH', 'SJC'), ('IAH', 'GPT'), ('IAH', 'MFE'), ('IAH', 'SDF'), ('IAH', 'CMH'), ('IAH', 'LEX'), ('IAH', 'ABQ'), ('IAH', 'CRP'), ('IAH', 'GSP'), ('IAH', 'MOB'), ('IAH', 'RSW'), ('IAH', 'CHS'), ('IAH', 'GJT'), ('IAH', 'BHM'), ('IAH', 'BFL'), ('IAH', 'ELP'), ('IAH', 'HRL'), ('IAH', 'CAE'), ('IAH', 'COS'), ('IAH', 'PNS'), ('IAH', 'PIT'), ('IAH', 'LBB'), ('IAH', 'MIA'), ('IAH', 'JAN'), ('IAH', 'PSP'), ('PKB', 'CLE'), ('CLE', 'ERI'), ('CLE', 'TTN'), ('CLE', 'MCI'), ('CLE', 'PHX'), ('CLE', 'BUF'), ('CLE', 'CHS'), ('CLE', 'IND'), ('CLE', 'MKE'), ('CLE', 'BWI'), ('CLE', 'PBI'), ('CLE', 'FKL'), ('CLE', 'ALB'), ('CLE', 'MSP'), ('CLE', 'JHW'), ('CLE', 'MSY'), ('CLE', 'RIC'), ('CLE', 'MIA'), ('CLE', 'SYR'), ('CLE', 'MDW'), ('CLE', 'DAY'), ('CLE', 'SDF'), ('CLE', 'CMH'), ('CLE', 'STL'), ('CLE', 'GSP'), ('CLE', 'FLL'), ('CLE', 'RSW'), ('CLE', 'JFK'), ('CLE', 'AUS'), ('CLE', 'BFD'), ('CLE', 'GRR'), ('CLE', 'DUJ'), ('CLE', 'EWR'), ('CLE', 'BNA'), ('CLE', 'ROC'), ('CLE', 'FNT'), ('TRI', 'PIE'), ('TRI', 'SFB'), ('PIE', 'FAR'), ('PIE', 'SGF'), ('PIE', 'ABE'), ('PIE', 'SBN'), ('PIE', 'BGR'), ('PIE', 'MDT'), ('PIE', 'CHA'), ('PIE', 'GSP'), ('PIE', 'TOL'), ('PIE', 'FWA'), ('PIE', 'CID'), ('PIE', 'SWF'), ('PIE', 'PIA'), ('PIE', 'DSM'), ('PIE', 'RFD'), ('PIE', 'LCK'), ('PIE', 'TYS'), ('PIE', 'HTS'), ('PIE', 'SYR'), ('PIE', 'GRR'), ('PIE', 'AVL'), ('PIE', 'MLI'), ('PIE', 'FSD'), ('PIE', 'ELM'), ('PIE', 'IAG'), ('PIE', 'ROA'), ('PIE', 'LEX'), ('PIE', 'GSO'), ('PIE', 'YNG'), ('PIE', 'PBG'), ('SFB', 'ABE'), ('SFB', 'XNA'), ('SFB', 'SBN'), ('SFB', 'TUL'), ('SFB', 'DSM'), ('SFB', 'PSM'), ('SFB', 'OKC'), ('SFB', 'CVG'), ('SFB', 'AVL'), ('SFB', 'GSO'), ('SFB', 'FSD'), ('SFB', 'BGR'), ('SFB', 'IAG'), ('SFB', 'ROA'), ('SFB', 'PHF'), ('SFB', 'PBG'), ('SFB', 'RFD'), ('SFB', 'AVP'), ('SFB', 'LEX'), ('SFB', 'GSP'), ('SFB', 'FAR'), ('SFB', 'BMI'), ('SFB', 'TOL'), ('SFB', 'FWA'), ('SFB', 'CID'), ('SFB', 'LIT'), ('SFB', 'BLV'), ('SFB', 'ATW'), ('SFB', 'HGR'), ('SFB', 'MDT'), ('SFB', 'LAN'), ('SFB', 'LCK'), ('SFB', 'TYS'), ('SFB', 'CKB'), ('SFB', 'GRR'), ('SFB', 'MLI'), ('SFB', 'ELM'), ('SFB', 'HTS'), ('SFB', 'SPI'), ('SFB', 'GFK'), ('SFB', 'BIS'), ('SFB', 'YNG'), ('SFB', 'MIA'), ('SFB', 'CHA'), ('SFB', 'SGF'), ('SFB', 'OWB'), ('SFB', 'BTV'), ('KKA', 'UNK'), ('KKA', 'ELI'), ('KKA', 'SKK'), ('UNK', 'SMK'), ('UNK', 'SKK'), ('UNK', 'ANC'), ('ELI', 'GLV'), ('AKB', 'DUT'), ('DUT', 'KQA'), ('PGA', 'GCN'), ('PGA', 'PHX'), ('PHX', 'FLG'), ('PHX', 'OMA'), ('PHX', 'MCI'), ('PHX', 'IND'), ('PHX', 'SJC'), ('PHX', 'MKE'), ('PHX', 'DRO'), ('PHX', 'BWI'), ('PHX', 'FAT'), ('PHX', 'YUM'), ('PHX', 'SBA'), ('PHX', 'DSM'), ('PHX', 'MSP'), ('PHX', 'SAN'), ('PHX', 'MSY'), ('PHX', 'ONT'), ('PHX', 'OKC'), ('PHX', 'RNO'), ('PHX', 'SNA'), ('PHX', 'MDW'), ('PHX', 'SAT'), ('PHX', 'BOI'), ('PHX', 'MRY'), ('PHX', 'RDU'), ('PHX', 'SDF'), ('PHX', 'CMH'), ('PHX', 'SBP'), ('PHX', 'ABQ'), ('PHX', 'TUS'), ('PHX', 'STL'), ('PHX', 'LGB'), ('PHX', 'KOA'), ('PHX', 'GJT'), ('PHX', 'BUR'), ('PHX', 'GEG'), ('PHX', 'LIT'), ('PHX', 'FLL'), ('PHX', 'JFK'), ('PHX', 'SOW'), ('PHX', 'AUS'), ('PHX', 'TUL'), ('PHX', 'EWR'), ('PHX', 'BFL'), ('PHX', 'ELP'), ('PHX', 'SMF'), ('PHX', 'BNA'), ('PHX', 'BUF'), ('PHX', 'LIH'), ('PHX', 'HOU'), ('PHX', 'PIT'), ('PHX', 'ANC'), ('PHX', 'MIA'), ('PHX', 'PSP'), ('FCA', 'MSP'), ('MSP', 'MBS'), ('MSP', 'MSO'), ('MSP', 'BJI'), ('MSP', 'FAR'), ('MSP', 'XNA'), ('MSP', 'SBN'), ('MSP', 'RAP'), ('MSP', 'GFK'), ('MSP', 'OMA'), ('MSP', 'ICT'), ('MSP', 'MCI'), ('MSP', 'MSN'), ('MSP', 'BUF'), ('MSP', 'GEG'), ('MSP', 'MEM'), ('MSP', 'CVG'), ('MSP', 'EWR'), ('MSP', 'BOI'), ('MSP', 'MOT'), ('MSP', 'HLN'), ('MSP', 'FLL'), ('MSP', 'INL'), ('MSP', 'LNK'), ('MSP', 'LAN'), ('MSP', 'PIT'), ('MSP', 'MIA'), ('MSP', 'IND'), ('MSP', 'DLH'), ('MSP', 'ATY'), ('MSP', 'RIC'), ('MSP', 'ORF'), ('MSP', 'SAT'), ('MSP', 'ROC'), ('MSP', 'RDU'), ('MSP', 'DAY'), ('MSP', 'TUS'), ('MSP', 'HIB'), ('MSP', 'GRB'), ('MSP', 'ISN'), ('MSP', 'ABR'), ('MSP', 'APN'), ('MSP', 'AUS'), ('MSP', 'TYS'), ('MSP', 'STL'), ('MSP', 'GRR'), ('MSP', 'BNA'), ('MSP', 'JAX'), ('MSP', 'MKE'), ('MSP', 'DSM'), ('MSP', 'SAN'), ('MSP', 'SYR'), ('MSP', 'MDW'), ('MSP', 'SJC'), ('MSP', 'CMH'), ('MSP', 'IMT'), ('MSP', 'ANC'), ('MSP', 'RSW'), ('MSP', 'JFK'), ('MSP', 'BHM'), ('MSP', 'SMF'), ('MSP', 'BDL'), ('MSP', 'PSP'), ('MSP', 'BWI'), ('MSP', 'TUL'), ('MSP', 'MSY'), ('MSP', 'OKC'), ('MSP', 'ALB'), ('MSP', 'SNA'), ('MSP', 'GTF'), ('MSP', 'BRD'), ('MSP', 'RHI'), ('MSP', 'DIK'), ('MSP', 'FSD'), ('MSP', 'MHT'), ('MSP', 'SDF'), ('MSP', 'LEX'), ('MSP', 'ABQ'), ('MSP', 'BZN'), ('MSP', 'BIL'), ('MSP', 'TVC'), ('MSP', 'BMI'), ('MSP', 'AZO'), ('MSP', 'FWA'), ('MSP', 'CID'), ('MSP', 'LSE'), ('MSP', 'CWA'), ('MSP', 'PIA'), ('MSP', 'RST'), ('MSP', 'FNT'), ('MSP', 'ATW'), ('MSP', 'MLI'), ('MSP', 'BIS'), ('MSP', 'PSC'), ('KFP', 'CDB'), ('CDB', 'NLG'), ('CDB', 'KVC'), ('CDB', 'ANC'), ('KLW', 'KTN'), ('KTN', 'SIT'), ('KTN', 'WRG'), ('KTN', 'JNU'), ('KTN', 'MTM'), ('KTN', 'HYG'), ('KWN', 'TOG'), ('KWN', 'EEK'), ('KYU', 'FAI'), ('KYU', 'HSL'), ('KYU', 'GAL'), ('KYU', 'NUL'), ('FAI', 'IRC'), ('FAI', 'HKB'), ('FAI', 'MLY'), ('FAI', 'RBY'), ('FAI', 'BTT'), ('FAI', 'FYU'), ('FAI', 'BRW'), ('FAI', 'SCC'), ('FAI', 'AKP'), ('FAI', 'GAL'), ('FAI', 'AET'), ('FAI', 'ANC'), ('FAI', 'WBQ'), ('FAI', 'CEM'), ('FAI', 'CIK'), ('FAI', 'HUS'), ('HSL', 'RBY'), ('HSL', 'KAL'), ('HSL', 'GAL'), ('HSL', 'HUS'), ('GAL', 'RBY'), ('GAL', 'KAL'), ('GAL', 'NUL'), ('NUL', 'KAL'), ('SCM', 'VAK'), ('SCM', 'HPB'), ('VAK', 'HPB'), ('BTI', 'SCC'), ('BTI', 'FYU'), ('SCC', 'BRW'), ('SCC', 'NUI'), ('SCC', 'ANC'), ('FYU', 'CIK'), ('FYU', 'VEE'), ('KKH', 'KWK'), ('KWK', 'KPN'), ('NIB', 'MCG'), ('MCG', 'TLJ'), ('MCG', 'ANC'), ('MCG', 'ANI'), ('PSG', 'WRG'), ('PSG', 'JNU'), ('JNU', 'SGY'), ('JNU', 'ELV'), ('JNU', 'HNH'), ('JNU', 'GST'), ('JNU', 'HNS'), ('JNU', 'SIT'), ('JNU', 'YAK'), ('JNU', 'ANC'), ('JNU', 'AGN'), ('AIN', 'ATK'), ('AIN', 'BRW'), ('ATK', 'BRW'), ('BRW', 'PIZ'), ('BRW', 'NUI'), ('BRW', 'ANC'), ('WNA', 'PKA'), ('IRC', 'CEM'), ('ABE', 'PGD'), ('ABE', 'MYR'), ('XNA', 'CVG'), ('XNA', 'EWR'), ('SBN', 'PGD'), ('TUL', 'EWR'), ('TUL', 'DAL'), ('TUL', 'HOU'), ('TUL', 'MIA'), ('TUL', 'STL'), ('TUL', 'MDW'), ('DSM', 'EWR'), ('DSM', 'MDW'), ('DSM', 'PGD'), ('OKC', 'EWR'), ('OKC', 'DAL'), ('OKC', 'HOU'), ('OKC', 'STL'), ('OKC', 'MDW'), ('OKC', 'BWI'), ('CVG', 'TTN'), ('CVG', 'MCI'), ('CVG', 'MSN'), ('CVG', 'MEM'), ('CVG', 'JAX'), ('CVG', 'MIA'), ('CVG', 'EWR'), ('CVG', 'BWI'), ('CVG', 'FLL'), ('CVG', 'MKE'), ('CVG', 'RSW'), ('CVG', 'JFK'), ('CVG', 'RIC'), ('CVG', 'STL'), ('CVG', 'GRR'), ('CVG', 'RDU'), ('CVG', 'MMU'), ('CVG', 'BNA'), ('CVG', 'PGD'), ('CVG', 'BDL'), ('CVG', 'PIT'), ('CVG', 'MSY'), ('AVL', 'FLL'), ('AVL', 'PGD'), ('GSO', 'EWR'), ('GSO', 'MIA'), ('IAG', 'MYR'), ('IAG', 'FLL'), ('IAG', 'PGD'), ('PBG', 'MYR'), ('PBG', 'FLL'), ('RFD', 'PGD'), ('LEX', 'FLL'), ('LEX', 'PGD'), ('GSP', 'EWR'), ('GSP', 'FLL'), ('GSP', 'HOU'), ('GSP', 'BNA'), ('GSP', 'MDW'), ('GSP', 'BWI'), ('GSP', 'PGD'), ('TOL', 'PGD'), ('FWA', 'MYR'), ('FWA', 'PGD'), ('CID', 'PGD'), ('LIT', 'DAL'), ('LIT', 'HOU'), ('LIT', 'MDW'), ('LIT', 'BWI'), ('LIT', 'STL'), ('TYS', 'EWR'), ('TYS', 'FLL'), ('TYS', 'PGD'), ('CKB', 'MGW'), ('GRR', 'EWR'), ('GRR', 'STL'), ('GRR', 'BWI'), ('HTS', 'MYR'), ('SPI', 'PGD'), ('GFK', 'TVF'), ('YNG', 'MYR'), ('YNG', 'PGD'), ('MIA', 'GNV'), ('MIA', 'MEM'), ('MIA', 'EWR'), ('MIA', 'PNS'), ('MIA', 'PIT'), ('MIA', 'JAX'), ('MIA', 'IND'), ('MIA', 'BWI'), ('MIA', 'SAN'), ('MIA', 'MSY'), ('MIA', 'RIC'), ('MIA', 'ORF'), ('MIA', 'EYW'), ('MIA', 'RDU'), ('MIA', 'APF'), ('MIA', 'TLH'), ('MIA', 'SDF'), ('MIA', 'CMH'), ('MIA', 'STL'), ('MIA', 'BDL'), ('MIA', 'JFK'), ('MIA', 'CHS'), ('MIA', 'BHM'), ('MIA', 'BNA'), ('SGF', 'PGD'), ('OWB', 'STL'), ('BTV', 'EWR'), ('BTV', 'JFK'), ('SLQ', 'ANI'), ('ANI', 'ANC'), ('ANI', 'HCR'), ('ANI', 'KLG'), ('ANI', 'SHX'), ('ANI', 'RSH'), ('JST', 'AOO'), ('CLM', 'BFI'), ('BFI', 'ESD'), ('BFI', 'FRD'), ('GLV', 'WMO'), ('HVR', 'BIL'), ('BIL', 'GGW'), ('BIL', 'SDY'), ('BIL', 'GDV'), ('BIL', 'OLF'), ('SGY', 'HNS'), ('MLL', 'RSH'), ('RSH', 'KLG'), ('ANV', 'HCR'), ('MVY', 'EWB'), ('MVY', 'HPN'), ('MVY', 'ACK'), ('EWB', 'ACK'), ('EWB', 'HPN'), ('HPN', 'HYA'), ('HPN', 'ACK'), ('HPN', 'FLL'), ('HPN', 'PBI'), ('HPN', 'RSW'), ('HPN', 'LEB'), ('ACK', 'HYA'), ('ACK', 'TEB'), ('PTH', 'AKN'), ('AKN', 'IGG'), ('AKN', 'DLG'), ('AKN', 'ANC'), ('AKN', 'EGX'), ('AKN', 'KPV'), ('AKN', 'PIP'), ('AKN', 'WSN'), ('AUK', 'EMK'), ('EMK', 'KOT'), ('CRW', 'MYR'), ('MYR', 'EWR'), ('MYR', 'BWI'), ('MYR', 'FLL'), ('MYR', 'LBE'), ('MYR', 'ACY'), ('KPN', 'CYF'), ('GCC', 'RKS'), ('SVA', 'GAM'), ('KOT', 'KSM'), ('KSM', 'MOU'), ('KSM', 'ANC'), ('PGD', 'ISP'), ('PGD', 'PIA'), ('LBL', 'DDC'), ('EWR', 'OMA'), ('EWR', 'MCI'), ('EWR', 'MSN'), ('EWR', 'BUF'), ('EWR', 'MEM'), ('EWR', 'JAX'), ('EWR', 'IND'), ('EWR', 'MHT'), ('EWR', 'MKE'), ('EWR', 'BWI'), ('EWR', 'PBI'), ('EWR', 'MSY'), ('EWR', 'PWM'), ('EWR', 'ALB'), ('EWR', 'SNA'), ('EWR', 'SAV'), ('EWR', 'SYR'), ('EWR', 'ORF'), ('EWR', 'SAT'), ('EWR', 'ROC'), ('EWR', 'RDU'), ('EWR', 'DAY'), ('EWR', 'SDF'), ('EWR', 'CMH'), ('EWR', 'STL'), ('EWR', 'PVD'), ('EWR', 'RIC'), ('EWR', 'FLL'), ('EWR', 'MDW'), ('EWR', 'AUS'), ('EWR', 'CHS'), ('EWR', 'BNA'), ('EWR', 'ITH'), ('EWR', 'HOU'), ('EWR', 'PIT'), ('EWR', 'SAN'), ('EWR', 'RSW'), ('ORH', 'FLL'), ('FLL', 'TTN'), ('FLL', 'MCI'), ('FLL', 'BUF'), ('FLL', 'ACY'), ('FLL', 'JAX'), ('FLL', 'IND'), ('FLL', 'BWI'), ('FLL', 'ISP'), ('FLL', 'MSY'), ('FLL', 'ALB'), ('FLL', 'MKE'), ('FLL', 'EYW'), ('FLL', 'RDU'), ('FLL', 'CMH'), ('FLL', 'STL'), ('FLL', 'PVD'), ('FLL', 'RIC'), ('FLL', 'SWF'), ('FLL', 'MDW'), ('FLL', 'JFK'), ('FLL', 'AUS'), ('FLL', 'BNA'), ('FLL', 'HOU'), ('FLL', 'BDL'), ('FLL', 'PIT'), ('FLL', 'LBE'), ('ACV', 'SMF'), ('ACV', 'CEC'), ('SMF', 'BOI'), ('SMF', 'LGB'), ('SMF', 'BUR'), ('SMF', 'AUS'), ('SMF', 'SAN'), ('SMF', 'ONT'), ('SMF', 'MDW'), ('SMF', 'JFK'), ('SMF', 'SNA'), ('SMF', 'PSP'), ('BTT', 'AKP'), ('BTT', 'AET'), ('AET', 'HUS'), ('VEE', 'ARC'), ('SNP', 'STG'), ('SNP', 'ANC'), ('STG', 'ANC'), ('ANC', 'ILI'), ('ANC', 'DLG'), ('ANC', 'ADQ'), ('ANC', 'CDV'), ('ANC', 'ENA'), ('ANC', 'HOM'), ('ANC', 'ADK'), ('ANC', 'SDP'), ('ANC', 'VDZ'), ('ICT', 'MDW'), ('ICT', 'DAL'), ('BLI', 'SAN'), ('BLI', 'PSP'), ('GTF', 'HLN'), ('TTN', 'IND'), ('TTN', 'MDW'), ('TTN', 'UST'), ('TTN', 'RDU'), ('TTN', 'RSW'), ('TTN', 'BNA'), ('IND', 'MCI'), ('IND', 'MEM'), ('IND', 'HOU'), ('IND', 'BWI'), ('IND', 'RSW'), ('IND', 'JFK'), ('IND', 'RDU'), ('MDW', 'OMA'), ('MDW', 'MCI'), ('MDW', 'BUF'), ('MDW', 'MEM'), ('MDW', 'HOU'), ('MDW', 'PIT'), ('MDW', 'JAN'), ('MDW', 'ORF'), ('MDW', 'SAT'), ('MDW', 'ROC'), ('MDW', 'RDU'), ('MDW', 'TUS'), ('MDW', 'PVD'), ('MDW', 'LUK'), ('MDW', 'AUS'), ('MDW', 'STL'), ('MDW', 'BNA'), ('MDW', 'JAX'), ('MDW', 'SAN'), ('MDW', 'ONT'), ('MDW', 'SJC'), ('MDW', 'BWI'), ('MDW', 'MBL'), ('MDW', 'MSY'), ('MDW', 'ALB'), ('MDW', 'MHT'), ('MDW', 'SDF'), ('MDW', 'CMH'), ('MDW', 'ABQ'), ('MDW', 'CHS'), ('MDW', 'RSW'), ('MDW', 'RNO'), ('MDW', 'BHM'), ('MDW', 'BDL'), ('MDW', 'ILG'), ('MDW', 'AMA'), ('RDU', 'MEM'), ('RDU', 'HOU'), ('RDU', 'PIT'), ('RDU', 'BWI'), ('RDU', 'JFK'), ('RDU', 'BNA'), ('RDU', 'CMH'), ('RDU', 'BDL'), ('RDU', 'STL'), ('RSW', 'ACY'), ('RSW', 'PIT'), ('RSW', 'PVD'), ('RSW', 'STL'), ('RSW', 'MKE'), ('RSW', 'CMH'), ('RSW', 'BWI'), ('RSW', 'JFK'), ('RSW', 'EYW'), ('RSW', 'BDL'), ('RSW', 'ILG'), ('BNA', 'MCI'), ('BNA', 'PNS'), ('BNA', 'HOU'), ('BNA', 'PIT'), ('BNA', 'ECP'), ('BNA', 'SAT'), ('BNA', 'PVD'), ('BNA', 'AHN'), ('BNA', 'AUS'), ('BNA', 'STL'), ('BNA', 'JAX'), ('BNA', 'CHS'), ('BNA', 'BWI'), ('BNA', 'SAN'), ('BNA', 'MSY'), ('BNA', 'CMH'), ('BNA', 'MKL'), ('BNA', 'JFK'), ('JAX', 'HOU'), ('JAX', 'BWI'), ('JAX', 'JFK'), ('BWI', 'MCI'), ('BWI', 'BUF'), ('BWI', 'MEM'), ('BWI', 'HOU'), ('BWI', 'PIT'), ('BWI', 'ECP'), ('BWI', 'ORF'), ('BWI', 'SAT'), ('BWI', 'ROC'), ('BWI', 'DAY'), ('BWI', 'PVD'), ('BWI', 'AUS'), ('BWI', 'STL'), ('BWI', 'MKE'), ('BWI', 'PBI'), ('BWI', 'SAN'), ('BWI', 'CMH'), ('BWI', 'JFK'), ('BWI', 'CHS'), ('BWI', 'BHM'), ('BWI', 'BDL'), ('BWI', 'MHT'), ('BWI', 'MSY'), ('BWI', 'PWM'), ('BWI', 'ALB'), ('BWI', 'SDF'), ('BWI', 'ABQ'), ('BWI', 'ISP'), ('BWI', 'FNT'), ('MCI', 'MKE'), ('MCI', 'SLN'), ('MCI', 'MEM'), ('MCI', 'SAN'), ('MCI', 'MSY'), ('MCI', 'DAL'), ('MCI', 'STL'), ('MCI', 'HRO'), ('MCI', 'HOU'), ('MCI', 'ABQ'), ('ISP', 'HOU'), ('ISP', 'PBI'), ('ISP', 'SNA'), ('SAN', 'OMA'), ('SAN', 'BOI'), ('SAN', 'HOU'), ('SAN', 'LIH'), ('SAN', 'SAT'), ('SAN', 'TUS'), ('SAN', 'PVD'), ('SAN', 'AUS'), ('SAN', 'STL'), ('SAN', 'FAT'), ('SAN', 'IPL'), ('SAN', 'MSY'), ('SAN', 'SJC'), ('SAN', 'SDF'), ('SAN', 'ABQ'), ('SAN', 'RNO'), ('SAN', 'JFK'), ('SAN', 'STS'), ('SAN', 'MRY'), ('MSY', 'MEM'), ('MSY', 'DAL'), ('MSY', 'HOU'), ('MSY', 'AUS'), ('MSY', 'STL'), ('MSY', 'MKE'), ('MSY', 'JFK'), ('MSY', 'EYW'), ('ALB', 'MSS'), ('ALB', 'OGS'), ('MKE', 'STL'), ('SYR', 'JFK'), ('CMH', 'STL'), ('CMH', 'JFK'), ('CMH', 'RNO'), ('SJC', 'BOI'), ('SJC', 'KOA'), ('SJC', 'LIH'), ('SJC', 'TUS'), ('SJC', 'BUR'), ('SJC', 'AUS'), ('SJC', 'ONT'), ('SJC', 'JFK'), ('SJC', 'SNA'), ('SJC', 'RNO'), ('STL', 'OMA'), ('STL', 'DAL'), ('STL', 'HOU'), ('STL', 'PIT'), ('STL', 'ECP'), ('STL', 'JBR'), ('STL', 'SAT'), ('STL', 'BRL'), ('STL', 'TBN'), ('STL', 'UIN'), ('STL', 'MWA'), ('STL', 'DEC'), ('STL', 'JFK'), ('STL', 'CGI'), ('STL', 'IRK'), ('PBI', 'BDL'), ('PBI', 'JFK'), ('RIC', 'JFK'), ('SAV', 'JFK'), ('JFK', 'BUF'), ('JFK', 'HOU'), ('JFK', 'PIT'), ('JFK', 'LGB'), ('JFK', 'ORF'), ('JFK', 'SAT'), ('JFK', 'ROC'), ('JFK', 'BUR'), ('JFK', 'AUS'), ('JFK', 'PWM'), ('JFK', 'ABQ'), ('JFK', 'CHS'), ('JFK', 'SRQ'), ('JFK', 'SDF'), ('AUS', 'MEM'), ('AUS', 'DAL'), ('AUS', 'ELP'), ('AUS', 'HRL'), ('AUS', 'HOU'), ('AUS', 'LGB'), ('AUS', 'LBB'), ('CHS', 'HOU'), ('HOU', 'MEM'), ('HOU', 'DAL'), ('HOU', 'ELP'), ('HOU', 'HRL'), ('HOU', 'PNS'), ('HOU', 'SNA'), ('HOU', 'CRP'), ('HOU', 'SAT'), ('HOU', 'ABQ'), ('HOU', 'PVD'), ('HOU', 'MAF'), ('HOU', 'BHM'), ('HOU', 'PIT'), ('HOU', 'ECP'), ('HOU', 'JAN'), ('PIT', 'MEM'), ('PIT', 'BDL'), ('KVL', 'WTK'), ('GEG', 'BOI'), ('BOI', 'LWS'), ('ABQ', 'DAL'), ('ABQ', 'LAM'), ('ABQ', 'CNM'), ('KOA', 'JHM'), ('BUR', 'IPL'), ('HOT', 'ELD'), ('HOT', 'MEM'), ('ELD', 'MEM'), ('ELD', 'DAL'), ('MEM', 'HRO'), ('MEM', 'MKL'), ('MEM', 'SAT'), ('LNY', 'MKK'), ('DAL', 'AMA'), ('DAL', 'MAF'), ('DAL', 'BHM'), ('DAL', 'SAT'), ('DAL', 'ELP'), ('DAL', 'HRL'), ('DAL', 'LBB'), ('SAT', 'ELP'), ('SAT', 'HRL'), ('SOW', 'FMN'), ('FKL', 'DUJ'), ('JHW', 'BFD'), ('MMU', 'LUK'), ('AIA', 'CDR'), ('HNH', 'GST'), ('YAK', 'CDV'), ('LWS', 'PUW'), ('MAF', 'HRL'), ('HRL', 'LBB'), ('LBB', 'CRP'), ('ADQ', 'AKK'), ('ADQ', 'KLN'), ('KLN', 'KYK'), ('INL', 'BRD'), ('HON', 'PIR'), ('PIR', 'ATY'), ('FMN', 'ALS'), ('BKW', 'SHD'), ('TUP', 'GLH'), ('CYS', 'WRL'), ('IMT', 'RHI'), ('EGX', 'WSN'), ('ESD', 'FRD')])"
      ]
     },
     "execution_count": 42,
     "metadata": {},
     "output_type": "execute_result"
    }
   ],
   "source": [
    "A.edges()"
   ]
  },
  {
   "cell_type": "code",
   "execution_count": 43,
   "id": "59893c88",
   "metadata": {},
   "outputs": [
    {
     "data": {
      "text/plain": [
       "False"
      ]
     },
     "execution_count": 43,
     "metadata": {},
     "output_type": "execute_result"
    }
   ],
   "source": [
    "A.has_edge('IND', 'FAI')\n"
   ]
  },
  {
   "cell_type": "code",
   "execution_count": 44,
   "id": "0d95366a",
   "metadata": {},
   "outputs": [
    {
     "data": {
      "text/plain": [
       "True"
      ]
     },
     "execution_count": 44,
     "metadata": {},
     "output_type": "execute_result"
    }
   ],
   "source": [
    "nx.has_path(A,'IND', 'FAI')"
   ]
  },
  {
   "cell_type": "code",
   "execution_count": 45,
   "id": "c1b8fed5",
   "metadata": {},
   "outputs": [
    {
     "data": {
      "text/plain": [
       "['IND', 'BOS', 'SEA', 'FAI']"
      ]
     },
     "execution_count": 45,
     "metadata": {},
     "output_type": "execute_result"
    }
   ],
   "source": [
    "nx.shortest_path(A,'IND', 'FAI')"
   ]
  },
  {
   "cell_type": "code",
   "execution_count": null,
   "id": "17d3d8ce",
   "metadata": {},
   "outputs": [],
   "source": []
  }
 ],
 "metadata": {
  "kernelspec": {
   "display_name": "Python 3 (ipykernel)",
   "language": "python",
   "name": "python3"
  },
  "language_info": {
   "codemirror_mode": {
    "name": "ipython",
    "version": 3
   },
   "file_extension": ".py",
   "mimetype": "text/x-python",
   "name": "python",
   "nbconvert_exporter": "python",
   "pygments_lexer": "ipython3",
   "version": "3.9.7"
  }
 },
 "nbformat": 4,
 "nbformat_minor": 5
}
