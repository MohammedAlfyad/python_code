{
 "cells": [
  {
   "cell_type": "code",
   "execution_count": 6,
   "id": "dd85b832",
   "metadata": {},
   "outputs": [],
   "source": [
    "import networkx as nx\n",
    "%matplotlib inline\n",
    "import matplotlib.pyplot as plt\n",
    "import numpy as np"
   ]
  },
  {
   "cell_type": "code",
   "execution_count": 2,
   "id": "343069e9",
   "metadata": {},
   "outputs": [
    {
     "data": {
      "image/png": "[encoded data removed]",
      "text/plain": [
       "<Figure size 432x288 with 1 Axes>"
      ]
     },
     "metadata": {},
     "output_type": "display_data"
    }
   ],
   "source": [
    "G = nx.Graph()\n",
    "\n",
    "G.add_nodes_from([1,2,3,4,5,6])\n",
    "\n",
    "G.add_edges_from([(1,2),(2,3),(2,4),(3,1),(3,2),(4,1),(6,1),(6,3)])\n",
    "\n",
    "nx.draw(G, with_labels=True, font_color='white', node_size=1000)"
   ]
  },
  {
   "cell_type": "code",
   "execution_count": 3,
   "id": "9d6d1829",
   "metadata": {},
   "outputs": [
    {
     "data": {
      "image/png": "[encoded data removed]",
      "text/plain": [
       "<Figure size 432x288 with 1 Axes>"
      ]
     },
     "metadata": {
      "needs_background": "light"
     },
     "output_type": "display_data"
    }
   ],
   "source": [
    "from collections import Counter\n",
    "degree_sequence = [G.degree(n) for n in G.nodes]\n",
    "degree_counts = Counter(degree_sequence)\n",
    "min_degree, max_degree = min(degree_counts.keys()), max(degree_counts.keys())\n",
    "plt.xlabel(\"Degree\", fontsize=20)\n",
    "plt.ylabel(\"Number of Nodes\", fontsize=20)\n",
    "plot_x = list(range(min_degree, max_degree + 1))\n",
    "plot_y = [degree_counts.get(x, 0) for x in plot_x]\n",
    "plt.bar(plot_x, plot_y)\n",
    "\n",
    "\n",
    "\n",
    "#################################\n",
    "\n",
    "def plot_degree_dist(G):\n",
    "    \n",
    "    degrees = G.degree()\n",
    "    degrees = dict(degrees)\n",
    "    values = sorted(set(degrees.values()))\n",
    "    print(values)\n",
    "    histo = [list(degrees.values()).count(x) for x in values]\n",
    "    P_k = [x / G.order() for x in histo]\n",
    "    print(len(P_k))\n",
    "    \n",
    "    plt.figure()\n",
    "    plt.bar(values, P_k)\n",
    "    plt.xlabel(\"k\",fontsize=20)\n",
    "    plt.ylabel(\"p(k)\", fontsize=20)\n",
    "    plt.title(\"Degree Distribution\", fontsize=20)\n",
    "    \n",
    "    plt.show()\n",
    "    plt.figure()\n",
    "    plt.grid(False)\n",
    "    plt.loglog(values, P_k, \"bo\")\n",
    "    plt.xlabel(\"k\", fontsize=20)\n",
    "    plt.ylabel(\"log p(k)\", fontsize=20)\n",
    "    plt.title(\"log Degree Distribution\")\n",
    "    plt.show()"
   ]
  },
  {
   "cell_type": "code",
   "execution_count": 8,
   "id": "6ef7f014",
   "metadata": {},
   "outputs": [
    {
     "name": "stdout",
     "output_type": "stream",
     "text": [
      "[[0 1 1 1 0 1]\n",
      " [1 0 1 1 0 0]\n",
      " [1 1 0 0 0 1]\n",
      " [1 1 0 0 0 0]\n",
      " [0 0 0 0 0 0]\n",
      " [1 0 1 0 0 0]]\n"
     ]
    }
   ],
   "source": [
    "A = nx.adjacency_matrix(G)\n",
    "print(A.todense())"
   ]
  },
  {
   "cell_type": "code",
   "execution_count": null,
   "id": "96be8f81",
   "metadata": {},
   "outputs": [],
   "source": []
  }
 ],
 "metadata": {
  "kernelspec": {
   "display_name": "Python 3 (ipykernel)",
   "language": "python",
   "name": "python3"
  },
  "language_info": {
   "codemirror_mode": {
    "name": "ipython",
    "version": 3
   },
   "file_extension": ".py",
   "mimetype": "text/x-python",
   "name": "python",
   "nbconvert_exporter": "python",
   "pygments_lexer": "ipython3",
   "version": "3.9.7"
  }
 },
 "nbformat": 4,
 "nbformat_minor": 5
}
