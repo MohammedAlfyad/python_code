{
 "cells": [
  {
   "cell_type": "code",
   "execution_count": 2,
   "id": "c0088b9c",
   "metadata": {},
   "outputs": [
    {
     "name": "stdout",
     "output_type": "stream",
     "text": [
      "Hello from Home\n"
     ]
    }
   ],
   "source": [
    "print('Hello from Home')"
   ]
  },
  {
   "cell_type": "code",
   "execution_count": 4,
   "id": "3ff78559",
   "metadata": {},
   "outputs": [
    {
     "name": "stdout",
     "output_type": "stream",
     "text": [
      "Alfyad\n",
      "24\n"
     ]
    }
   ],
   "source": [
    "name = 'Alfyad'\n",
    "age = 24\n",
    "\n",
    "print(name)\n",
    "print(age)"
   ]
  },
  {
   "cell_type": "code",
   "execution_count": 10,
   "id": "2575ee12",
   "metadata": {},
   "outputs": [
    {
     "name": "stdout",
     "output_type": "stream",
     "text": [
      "You Very good\n"
     ]
    }
   ],
   "source": [
    "grade = 70\n",
    "\n",
    "if grade < 50:\n",
    "    print('You Failed')\n",
    "elif grade < 60:\n",
    "    print('You Good')\n",
    "elif grade < 85:\n",
    "    print('You Very good')\n",
    "else:\n",
    "    print('You Excellent')"
   ]
  },
  {
   "cell_type": "code",
   "execution_count": 17,
   "id": "2f3e4cc2",
   "metadata": {},
   "outputs": [
    {
     "data": {
      "text/plain": [
       "'C#'"
      ]
     },
     "execution_count": 17,
     "metadata": {},
     "output_type": "execute_result"
    }
   ],
   "source": [
    "programming_languages = ['C++' , 'Python' , 'C#' , 'Java' , 'Html' , 'CSS']\n",
    "programming_languages[-4]"
   ]
  },
  {
   "cell_type": "code",
   "execution_count": 19,
   "id": "bebaa8e5",
   "metadata": {},
   "outputs": [
    {
     "data": {
      "text/plain": [
       "['Python', 'C#', 'Java']"
      ]
     },
     "execution_count": 19,
     "metadata": {},
     "output_type": "execute_result"
    }
   ],
   "source": [
    "programming_languages[1:4]"
   ]
  },
  {
   "cell_type": "code",
   "execution_count": 22,
   "id": "5dc99246",
   "metadata": {},
   "outputs": [
    {
     "data": {
      "text/plain": [
       "['C++', 'Python', 'C#', 'Java', 'Html', 'CSS', 'Java Script', 'Java Script']"
      ]
     },
     "execution_count": 22,
     "metadata": {},
     "output_type": "execute_result"
    }
   ],
   "source": [
    "programming_languages.append('Java Script')\n",
    "programming_languages"
   ]
  },
  {
   "cell_type": "code",
   "execution_count": 25,
   "id": "a6a5cd2d",
   "metadata": {},
   "outputs": [
    {
     "data": {
      "text/plain": [
       "['C++',\n",
       " 'Python',\n",
       " 'C#',\n",
       " 'R',\n",
       " 'R',\n",
       " 'R',\n",
       " 'Java',\n",
       " 'Html',\n",
       " 'CSS',\n",
       " 'Java Script',\n",
       " 'Java Script']"
      ]
     },
     "execution_count": 25,
     "metadata": {},
     "output_type": "execute_result"
    }
   ],
   "source": [
    "programming_languages.insert(3,'R')\n",
    "programming_languages"
   ]
  },
  {
   "cell_type": "code",
   "execution_count": 33,
   "id": "ccca1094",
   "metadata": {},
   "outputs": [
    {
     "data": {
      "text/plain": [
       "['C++', 'Python', 'C#', 'R']"
      ]
     },
     "execution_count": 33,
     "metadata": {},
     "output_type": "execute_result"
    }
   ],
   "source": [
    "del programming_languages[4]\n",
    "programming_languages"
   ]
  },
  {
   "cell_type": "code",
   "execution_count": 39,
   "id": "4f15717f",
   "metadata": {},
   "outputs": [
    {
     "name": "stdout",
     "output_type": "stream",
     "text": [
      "I LOve C++\n",
      "I LOve Python\n",
      "I LOve C#\n",
      "I LOve Java\n",
      "I LOve Html\n",
      "I LOve CSS\n"
     ]
    }
   ],
   "source": [
    "programming_languages = ['C++' , 'Python' , 'C#' , 'Java' , 'Html' , 'CSS']\n",
    "for programming_languages in programming_languages:\n",
    "    print('I LOve ' + programming_languages)"
   ]
  },
  {
   "cell_type": "code",
   "execution_count": 41,
   "id": "ef9e92dc",
   "metadata": {},
   "outputs": [
    {
     "name": "stdout",
     "output_type": "stream",
     "text": [
      "Alice\n",
      "Spanish\n",
      "A-\n"
     ]
    }
   ],
   "source": [
    "student_grade = ('Alice', 'Spanish', 'A-')\n",
    "student_name, subject, grade = student_grade\n",
    "\n",
    "print(student_name)\n",
    "print(subject)\n",
    "print(grade)"
   ]
  },
  {
   "cell_type": "code",
   "execution_count": 44,
   "id": "44e55e64",
   "metadata": {},
   "outputs": [
    {
     "name": "stdout",
     "output_type": "stream",
     "text": [
      "Congratulations Alice on getting an A in Spanish\n",
      "Congratulations Dave on getting an A- in Italian\n"
     ]
    }
   ],
   "source": [
    "student_grades = [\n",
    "    ('Alice', 'Spanish', 'A'),\n",
    "    ('Bob', 'French', 'C'),\n",
    "    ('Carol', 'Italian', 'B+'),\n",
    "    ('Dave', 'Italian', 'A-'),\n",
    "]\n",
    "\n",
    "for student_name, subject, grade in student_grades:\n",
    "    if grade.startswith('A'):\n",
    "        print('Congratulations', student_name,\n",
    "              'on getting an', grade,\n",
    "              'in', subject)"
   ]
  },
  {
   "cell_type": "code",
   "execution_count": 48,
   "id": "02eb3c74",
   "metadata": {},
   "outputs": [],
   "source": [
    "skill_languages = {\n",
    "    'Html': '95%',\n",
    "    'CSS': '80%',\n",
    "    'Java Script': '75%',\n",
    "    'Jquary': '50%',\n",
    "}"
   ]
  },
  {
   "cell_type": "code",
   "execution_count": 53,
   "id": "71acccf2",
   "metadata": {},
   "outputs": [
    {
     "data": {
      "text/plain": [
       "'80%'"
      ]
     },
     "execution_count": 53,
     "metadata": {},
     "output_type": "execute_result"
    }
   ],
   "source": [
    "skill_languages['CSS']"
   ]
  },
  {
   "cell_type": "code",
   "execution_count": 54,
   "id": "9451daa6",
   "metadata": {},
   "outputs": [
    {
     "data": {
      "text/plain": [
       "True"
      ]
     },
     "execution_count": 54,
     "metadata": {},
     "output_type": "execute_result"
    }
   ],
   "source": [
    "'Html' in skill_languages"
   ]
  },
  {
   "cell_type": "code",
   "execution_count": 57,
   "id": "d8a07fa2",
   "metadata": {},
   "outputs": [
    {
     "data": {
      "text/plain": [
       "{'Html': '95%', 'CSS': '83%', 'Java Script': '75%', 'Jquary': '50%'}"
      ]
     },
     "execution_count": 57,
     "metadata": {},
     "output_type": "execute_result"
    }
   ],
   "source": [
    "skill_languages['CSS'] = '83%'\n",
    "skill_languages"
   ]
  },
  {
   "cell_type": "code",
   "execution_count": 58,
   "id": "893e91a7",
   "metadata": {},
   "outputs": [
    {
     "name": "stdout",
     "output_type": "stream",
     "text": [
      "Html his Rate 95%\n",
      "CSS his Rate 83%\n",
      "Java Script his Rate 75%\n",
      "Jquary his Rate 50%\n"
     ]
    }
   ],
   "source": [
    "for key in skill_languages:\n",
    "    value = skill_languages[key]\n",
    "    print(key, 'his Rate', value)"
   ]
  },
  {
   "cell_type": "code",
   "execution_count": 59,
   "id": "4f8d0509",
   "metadata": {},
   "outputs": [
    {
     "data": {
      "text/plain": [
       "[('Alice', 'Spanish', 'A'),\n",
       " ('Bob', 'French', 'C'),\n",
       " ('Carol', 'Italian', 'B+'),\n",
       " ('Dave', 'Italian', 'A-')]"
      ]
     },
     "execution_count": 59,
     "metadata": {},
     "output_type": "execute_result"
    }
   ],
   "source": [
    "student_grades"
   ]
  },
  {
   "cell_type": "code",
   "execution_count": 60,
   "id": "cea28e0e",
   "metadata": {},
   "outputs": [
    {
     "data": {
      "text/plain": [
       "('Carol', 'Italian', 'B+')"
      ]
     },
     "execution_count": 60,
     "metadata": {},
     "output_type": "execute_result"
    }
   ],
   "source": [
    "student_grades[2]"
   ]
  },
  {
   "cell_type": "code",
   "execution_count": 63,
   "id": "edd56f0c",
   "metadata": {},
   "outputs": [
    {
     "data": {
      "text/plain": [
       "[{'name': 'Alice', 'subject': 'Spanish', 'grade': 'A'},\n",
       " {'name': 'Bob', 'subject': 'French', 'grade': 'C'},\n",
       " {'name': 'Carol', 'subject': 'Italian', 'grade': 'B+'},\n",
       " {'name': 'Dave', 'subject': 'Italian', 'grade': 'A-'}]"
      ]
     },
     "execution_count": 63,
     "metadata": {},
     "output_type": "execute_result"
    }
   ],
   "source": [
    "student_grade_records = []\n",
    "for student_name, subject, grade in student_grades:\n",
    "    record = {\n",
    "        'name': student_name,\n",
    "        'subject': subject,\n",
    "        'grade': grade,\n",
    "    }\n",
    "    student_grade_records.append(record)\n",
    "    \n",
    "student_grade_records"
   ]
  }
 ],
 "metadata": {
  "kernelspec": {
   "display_name": "Python 3 (ipykernel)",
   "language": "python",
   "name": "python3"
  },
  "language_info": {
   "codemirror_mode": {
    "name": "ipython",
    "version": 3
   },
   "file_extension": ".py",
   "mimetype": "text/x-python",
   "name": "python",
   "nbconvert_exporter": "python",
   "pygments_lexer": "ipython3",
   "version": "3.9.7"
  }
 },
 "nbformat": 4,
 "nbformat_minor": 5
}
